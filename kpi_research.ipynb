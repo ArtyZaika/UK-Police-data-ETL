{
 "cells": [
  {
   "attachments": {},
   "cell_type": "markdown",
   "metadata": {},
   "source": [
    "## Basic data research"
   ]
  },
  {
   "cell_type": "code",
   "execution_count": 1,
   "metadata": {},
   "outputs": [],
   "source": [
    "import pyspark\n",
    "from pyspark.sql import SparkSession\n",
    "import pyspark.sql.functions as F\n",
    "import pyspark.sql as pysql"
   ]
  },
  {
   "cell_type": "code",
   "execution_count": 2,
   "metadata": {},
   "outputs": [
    {
     "name": "stdout",
     "output_type": "stream",
     "text": [
      "23/01/24 19:12:36 WARN Utils: Your hostname, MacBook-Pro-16.local resolves to a loopback address: 127.0.0.1; using 192.168.0.102 instead (on interface en0)\n",
      "23/01/24 19:12:36 WARN Utils: Set SPARK_LOCAL_IP if you need to bind to another address\n"
     ]
    },
    {
     "name": "stderr",
     "output_type": "stream",
     "text": [
      "Setting default log level to \"WARN\".\n",
      "To adjust logging level use sc.setLogLevel(newLevel). For SparkR, use setLogLevel(newLevel).\n"
     ]
    },
    {
     "name": "stdout",
     "output_type": "stream",
     "text": [
      "23/01/24 19:12:37 WARN NativeCodeLoader: Unable to load native-hadoop library for your platform... using builtin-java classes where applicable\n"
     ]
    }
   ],
   "source": [
    "spark = SparkSession.builder \\\n",
    "    .master(\"local[*]\") \\\n",
    "    .appName('spark-police-data-app') \\\n",
    "    .getOrCreate()"
   ]
  },
  {
   "cell_type": "code",
   "execution_count": 3,
   "metadata": {},
   "outputs": [
    {
     "data": {
      "text/html": [
       "\n",
       "            <div>\n",
       "                <p><b>SparkSession - in-memory</b></p>\n",
       "                \n",
       "        <div>\n",
       "            <p><b>SparkContext</b></p>\n",
       "\n",
       "            <p><a href=\"http://192.168.0.102:4040\">Spark UI</a></p>\n",
       "\n",
       "            <dl>\n",
       "              <dt>Version</dt>\n",
       "                <dd><code>v3.3.1</code></dd>\n",
       "              <dt>Master</dt>\n",
       "                <dd><code>local[*]</code></dd>\n",
       "              <dt>AppName</dt>\n",
       "                <dd><code>spark-police-data-app</code></dd>\n",
       "            </dl>\n",
       "        </div>\n",
       "        \n",
       "            </div>\n",
       "        "
      ],
      "text/plain": [
       "<pyspark.sql.session.SparkSession at 0x7f9d3056cfa0>"
      ]
     },
     "execution_count": 3,
     "metadata": {},
     "output_type": "execute_result"
    }
   ],
   "source": [
    "spark"
   ]
  },
  {
   "attachments": {},
   "cell_type": "markdown",
   "metadata": {},
   "source": [
    "### Load Outcome data and check schema. We see that columns can be null, so we should manage this in code while transforming"
   ]
  },
  {
   "cell_type": "code",
   "execution_count": 4,
   "metadata": {},
   "outputs": [
    {
     "name": "stderr",
     "output_type": "stream",
     "text": [
      "                                                                                \r"
     ]
    },
    {
     "name": "stdout",
     "output_type": "stream",
     "text": [
      "Outcomes count: 1679624\n"
     ]
    }
   ],
   "source": [
    "outcome_df = (spark.read \\\n",
    "    .option(\"header\", \"true\") \\\n",
    "    .parquet(\"datasets/intermid_parquets/outcome/*\")\n",
    "    .select('Crime ID', 'Outcome type')\n",
    ")\n",
    "print(f\"Outcomes count: {outcome_df.count()}\")"
   ]
  },
  {
   "cell_type": "code",
   "execution_count": 5,
   "metadata": {},
   "outputs": [
    {
     "name": "stdout",
     "output_type": "stream",
     "text": [
      "root\n",
      " |-- Crime ID: string (nullable = true)\n",
      " |-- Outcome type: string (nullable = true)\n",
      "\n"
     ]
    }
   ],
   "source": [
    "outcome_df.printSchema()"
   ]
  },
  {
   "cell_type": "code",
   "execution_count": 6,
   "metadata": {},
   "outputs": [
    {
     "name": "stdout",
     "output_type": "stream",
     "text": [
      "+----------------------------------------------------------------+---------------------------------------------+\n",
      "|Crime ID                                                        |Outcome type                                 |\n",
      "+----------------------------------------------------------------+---------------------------------------------+\n",
      "|383a4f6b2ad869210558ea0d9d9b2ae7403aae5599e827eb182712fbf3160eab|Investigation complete; no suspect identified|\n",
      "|276c9c3992fbf2c031862176b1bba0a50992f49b5ef62f201f3cbfcb2d23e9f5|Investigation complete; no suspect identified|\n",
      "|448a300ab2c02cac490e2df249e2ba927bccc43f9e3b211462d3040c3a5c460a|Investigation complete; no suspect identified|\n",
      "|ee8c2aa361b9b310b1195ba9e7afa9220a4d2e42b9a57a0118801493796a693b|Investigation complete; no suspect identified|\n",
      "|382f1adf7574030fddfbdb671d529717e1746cfe000e5d2d0504a7350a0ec80f|Investigation complete; no suspect identified|\n",
      "+----------------------------------------------------------------+---------------------------------------------+\n",
      "only showing top 5 rows\n",
      "\n"
     ]
    }
   ],
   "source": [
    "outcome_df.sample(fraction=0.3, seed=142).show(5, truncate=False)"
   ]
  },
  {
   "attachments": {},
   "cell_type": "markdown",
   "metadata": {},
   "source": [
    "##### Null checks show we have no such rows"
   ]
  },
  {
   "cell_type": "code",
   "execution_count": 7,
   "metadata": {},
   "outputs": [
    {
     "name": "stderr",
     "output_type": "stream",
     "text": [
      "[Stage 5:=====================================================>   (15 + 1) / 16]\r"
     ]
    },
    {
     "name": "stdout",
     "output_type": "stream",
     "text": [
      "+--------+------------+\n",
      "|Crime ID|Outcome type|\n",
      "+--------+------------+\n",
      "|       0|           0|\n",
      "+--------+------------+\n",
      "\n"
     ]
    },
    {
     "name": "stderr",
     "output_type": "stream",
     "text": [
      "                                                                                \r"
     ]
    }
   ],
   "source": [
    "outcome_df.select([F.count(F.when((F.col(c) == 'null') | (F.col(c) == -0.0), c)).alias(c) for c in outcome_df.columns]).show()"
   ]
  },
  {
   "attachments": {},
   "cell_type": "markdown",
   "metadata": {},
   "source": [
    "##### Check Outcomes statistics for the whole dataset"
   ]
  },
  {
   "cell_type": "code",
   "execution_count": 8,
   "metadata": {},
   "outputs": [
    {
     "name": "stdout",
     "output_type": "stream",
     "text": [
      "+---------------------------------------------------+-------+\n",
      "|Outcome type                                       |counted|\n",
      "+---------------------------------------------------+-------+\n",
      "|Investigation complete; no suspect identified      |763014 |\n",
      "|Unable to prosecute suspect                        |656796 |\n",
      "|Suspect charged                                    |132653 |\n",
      "|Local resolution                                   |45686  |\n",
      "|Action to be taken by another organisation         |21713  |\n",
      "|Offender given a caution                           |18778  |\n",
      "|Further investigation is not in the public interest|15319  |\n",
      "|Further action is not in the public interest       |10435  |\n",
      "|Formal action is not in the public interest        |10179  |\n",
      "|Offender given penalty notice                      |2590   |\n",
      "|Offender given a drugs possession warning          |1271   |\n",
      "|Suspect charged as part of another case            |1190   |\n",
      "+---------------------------------------------------+-------+\n",
      "\n"
     ]
    }
   ],
   "source": [
    "outcome_df \\\n",
    ".groupBy('Outcome type') \\\n",
    ".agg(F.count('Outcome type').alias('counted')) \\\n",
    ".orderBy(F.desc('counted')) \\\n",
    ".show(truncate=False)"
   ]
  },
  {
   "attachments": {},
   "cell_type": "markdown",
   "metadata": {},
   "source": [
    "### Load Places data and check schema. We see that columns can be null, so we should manage this in code while transforming"
   ]
  },
  {
   "cell_type": "code",
   "execution_count": 9,
   "metadata": {},
   "outputs": [
    {
     "name": "stdout",
     "output_type": "stream",
     "text": [
      "Places count: 1746586\n"
     ]
    }
   ],
   "source": [
    "places_df = (spark.read \\\n",
    "    .option(\"header\", \"true\")\n",
    "    .parquet(\"datasets/intermid_parquets/places/*\")\n",
    "    .select('Crime ID', 'Month', 'Reported by', 'Longitude', 'Latitude', 'Crime type', 'Last outcome category')\n",
    ")\n",
    "\n",
    "print(f\"Places count: {places_df.count()}\")"
   ]
  },
  {
   "cell_type": "code",
   "execution_count": 10,
   "metadata": {},
   "outputs": [
    {
     "name": "stdout",
     "output_type": "stream",
     "text": [
      "root\n",
      " |-- Crime ID: string (nullable = true)\n",
      " |-- Month: string (nullable = true)\n",
      " |-- Reported by: string (nullable = true)\n",
      " |-- Longitude: double (nullable = true)\n",
      " |-- Latitude: double (nullable = true)\n",
      " |-- Crime type: string (nullable = true)\n",
      " |-- Last outcome category: string (nullable = true)\n",
      "\n"
     ]
    }
   ],
   "source": [
    "places_df.printSchema()"
   ]
  },
  {
   "cell_type": "code",
   "execution_count": 11,
   "metadata": {},
   "outputs": [
    {
     "name": "stdout",
     "output_type": "stream",
     "text": [
      "+--------------------+-------+--------------------+---------+---------+--------------------+---------------------+\n",
      "|            Crime ID|  Month|         Reported by|Longitude| Latitude|          Crime type|Last outcome category|\n",
      "+--------------------+-------+--------------------+---------+---------+--------------------+---------------------+\n",
      "|fb0683b8f5616de7b...|2022-10|Metropolitan Poli...| 0.136416|51.584898|        Public order|  Under investigation|\n",
      "|d652b245f882e8aa6...|2022-10|Metropolitan Poli...| 0.135924|51.587353|        Public order|  Under investigation|\n",
      "|cfc55c544278d27a6...|2022-10|Metropolitan Poli...| 0.140194|51.582356|             Robbery|  Under investigation|\n",
      "|12dca2a42408aacad...|2022-10|Metropolitan Poli...| 0.135579|51.584913|       Vehicle crime|  Under investigation|\n",
      "|7817e95e0dd6a84c0...|2022-10|Metropolitan Poli...| 0.140576|51.583419|Violence and sexu...|  Under investigation|\n",
      "+--------------------+-------+--------------------+---------+---------+--------------------+---------------------+\n",
      "only showing top 5 rows\n",
      "\n"
     ]
    }
   ],
   "source": [
    "\n",
    "places_df.sample(fraction=0.3, seed=140).show(5)"
   ]
  },
  {
   "attachments": {},
   "cell_type": "markdown",
   "metadata": {},
   "source": [
    "##### Null checks show we have nulls for Longitude, Latitude and Last outcome category columns"
   ]
  },
  {
   "cell_type": "code",
   "execution_count": 12,
   "metadata": {},
   "outputs": [
    {
     "name": "stderr",
     "output_type": "stream",
     "text": [
      "[Stage 16:====================================================>   (15 + 1) / 16]\r"
     ]
    },
    {
     "name": "stdout",
     "output_type": "stream",
     "text": [
      "+--------+-----+-----------+---------+--------+----------+---------------------+\n",
      "|Crime ID|Month|Reported by|Longitude|Latitude|Crime type|Last outcome category|\n",
      "+--------+-----+-----------+---------+--------+----------+---------------------+\n",
      "|       0|    0|          0|    36060|   36060|         0|                36495|\n",
      "+--------+-----+-----------+---------+--------+----------+---------------------+\n",
      "\n"
     ]
    },
    {
     "name": "stderr",
     "output_type": "stream",
     "text": [
      "                                                                                \r"
     ]
    }
   ],
   "source": [
    "places_df.select([F.count(F.when((F.col(c) == 'null') | (F.col(c) == -0.0), c)).alias(c) for c in places_df.columns]).show()"
   ]
  },
  {
   "attachments": {},
   "cell_type": "markdown",
   "metadata": {},
   "source": [
    "##### Check Last outcome category for places statistics for the whole dataset"
   ]
  },
  {
   "cell_type": "code",
   "execution_count": 13,
   "metadata": {},
   "outputs": [
    {
     "name": "stdout",
     "output_type": "stream",
     "text": [
      "+---------------------------------------------------+-------+\n",
      "|Last outcome category                              |counted|\n",
      "+---------------------------------------------------+-------+\n",
      "|Under investigation                                |603988 |\n",
      "|Investigation complete; no suspect identified      |543557 |\n",
      "|Unable to prosecute suspect                        |427244 |\n",
      "|Awaiting court outcome                             |59000  |\n",
      "|null                                               |36495  |\n",
      "|Local resolution                                   |29297  |\n",
      "|Action to be taken by another organisation         |14624  |\n",
      "|Further investigation is not in the public interest|9627   |\n",
      "|Offender given a caution                           |9282   |\n",
      "|Further action is not in the public interest       |5718   |\n",
      "|Formal action is not in the public interest        |4660   |\n",
      "|Offender given penalty notice                      |1909   |\n",
      "|Offender given a drugs possession warning          |817    |\n",
      "|Suspect charged as part of another case            |367    |\n",
      "|Court result unavailable                           |1      |\n",
      "+---------------------------------------------------+-------+\n",
      "\n"
     ]
    }
   ],
   "source": [
    "places_df \\\n",
    ".groupBy('Last outcome category') \\\n",
    ".agg(F.count('Last outcome category').alias('counted')) \\\n",
    ".orderBy(F.desc('counted')) \\\n",
    ".show(truncate=False)"
   ]
  },
  {
   "attachments": {},
   "cell_type": "markdown",
   "metadata": {},
   "source": [
    "#### Merge Outcomes nad Places and check duplicates"
   ]
  },
  {
   "cell_type": "code",
   "execution_count": 14,
   "metadata": {},
   "outputs": [],
   "source": [
    "df_all = places_df.join(outcome_df, on='Crime ID', how='left')"
   ]
  },
  {
   "cell_type": "code",
   "execution_count": 15,
   "metadata": {},
   "outputs": [
    {
     "name": "stderr",
     "output_type": "stream",
     "text": [
      "[Stage 22:===============>(15 + 1) / 16][Stage 23:=============>  (13 + 3) / 16]\r"
     ]
    },
    {
     "name": "stdout",
     "output_type": "stream",
     "text": [
      "+--------------------+-------+--------------------+---------+---------+--------------------+---------------------+--------------------+\n",
      "|            Crime ID|  Month|         Reported by|Longitude| Latitude|          Crime type|Last outcome category|        Outcome type|\n",
      "+--------------------+-------+--------------------+---------+---------+--------------------+---------------------+--------------------+\n",
      "|0000660af187ccfe0...|2022-11|Suffolk Constabulary| 1.698238|52.458968|Violence and sexu...| Offender given a ...|Offender given a ...|\n",
      "|0007596164e4dde4e...|2022-08|   Merseyside Police|-2.686276|53.447738|Violence and sexu...| Unable to prosecu...|Unable to prosecu...|\n",
      "|000d2c4255b4c51cb...|2022-08|Devon & Cornwall ...|-4.135883|50.385401|            Burglary|  Under investigation|                null|\n",
      "|000ee8509643fb926...|2022-10|West Midlands Police| -1.89286|52.489326|Violence and sexu...| Investigation com...|Investigation com...|\n",
      "|000fc54e3bb91ca40...|2022-11|Metropolitan Poli...|-0.128912|51.334695|       Vehicle crime|  Under investigation|                null|\n",
      "|0015110443aac7eb7...|2022-11|Metropolitan Poli...|-0.108388|51.503167|         Other theft|  Under investigation|                null|\n",
      "|001a4cbe42b851cd4...|2022-09| Durham Constabulary|-1.676121|54.664408|Violence and sexu...| Awaiting court ou...|     Suspect charged|\n",
      "|001a6c36613aa7b0d...|2022-08|Leicestershire Po...|     -0.0|     -0.0|Violence and sexu...|  Under investigation|                null|\n",
      "|0020155bfccdc03ad...|2022-10|Metropolitan Poli...|-0.024079|51.447236|            Burglary|  Under investigation|                null|\n",
      "|002305a821a89eb39...|2022-09|         Kent Police| 1.379345|51.386151|        Public order| Unable to prosecu...|Unable to prosecu...|\n",
      "+--------------------+-------+--------------------+---------+---------+--------------------+---------------------+--------------------+\n",
      "only showing top 10 rows\n",
      "\n"
     ]
    },
    {
     "name": "stderr",
     "output_type": "stream",
     "text": [
      "                                                                                \r"
     ]
    }
   ],
   "source": [
    "df_all.sample(fraction=0.3, seed=142).show(10)"
   ]
  },
  {
   "cell_type": "code",
   "execution_count": 16,
   "metadata": {},
   "outputs": [
    {
     "name": "stderr",
     "output_type": "stream",
     "text": [
      "[Stage 31:>                                                       (0 + 16) / 17]\r"
     ]
    },
    {
     "name": "stdout",
     "output_type": "stream",
     "text": [
      "+----------------------------------------------------------------+-------+\n",
      "|Crime ID                                                        |counted|\n",
      "+----------------------------------------------------------------+-------+\n",
      "|7fcc9b48992d482250ab58aee146da8c1a3c9c41ecc75c97fd0d0b473031a702|42     |\n",
      "|fd05ba733e6b3b437746184e496bfa8d45bcec8e6e58dc21ae6352fdcc70088a|25     |\n",
      "|3c6e1f8ede437daf0d68159db6179af0f4880837a00f7e2019dd55c0483b2a4e|25     |\n",
      "|858e15159a664061856e1a282503efff06370413020382466a8f6bd764a6e752|24     |\n",
      "|b70ecd551c578cc5a8dfb2d82268e55212297ef55ecd91743ae19ecfc3722a91|20     |\n",
      "|5cf6d39519b1ab4609286fe89e326ce7a6c7c087a87a0d6010a470f9a6e87805|18     |\n",
      "|5b97a52e34e897a389a46fa7f039b0f88f5a613b052312e558789577c1d877f9|18     |\n",
      "|8e4a865bdeb256f49448d2b2c659cdabd384672bde2bd5308e94c2ff89896738|16     |\n",
      "|34fed62ba224bcbe6188201dc2ae95dccd41e3b61bc5147b11aec8c1a72f16cd|16     |\n",
      "|e526b855d7e417f819b32f6393cbf639052b91da75f0d4b3fbbd4ab557d19700|15     |\n",
      "|d290fdad8c1163d3f148d8ae184f0a22954357469d3586c4e1fda148ee29f0c2|15     |\n",
      "|d8643c77c1b5e32c386ac0b03756291ba38bbe6eeb5ea1b6170633f780b4a9d9|14     |\n",
      "|7f2105af617d40da3923e64fb045cb8939ce960bdd243ebd4fad63a4752b331a|14     |\n",
      "|ca2e366f2d8d0d7e7bc55c8ed071f66af0bc68f244f1dcc7e7a78a60ca2fb61e|14     |\n",
      "|011f530db89a8bb3e65e68a0b18881591ff8847afb885b17f1c02a71145799a4|14     |\n",
      "|7ee5fc261689e727675446809ceb57c44ff0df390dac3fcd2fa50ad25ede472d|13     |\n",
      "|eb0a27df368f39e6465853e0c2c335831208fe8c639a3587431f65d301666f62|13     |\n",
      "|1c9450bee2283bcb6f65f2c3cb37fa03ee959feb50952d852e81790d5a00e82a|12     |\n",
      "|1db42bdedfa0bbe35d4675e09b56fa169af99d10fe44bd99b06325b36f9a0835|12     |\n",
      "|50d353277fa42a338f9c6bdc0c4682f198b95b5d43f1d278e9ecdeb337570673|12     |\n",
      "+----------------------------------------------------------------+-------+\n",
      "only showing top 20 rows\n",
      "\n"
     ]
    },
    {
     "name": "stderr",
     "output_type": "stream",
     "text": [
      "                                                                                \r"
     ]
    }
   ],
   "source": [
    "df_all \\\n",
    ".groupBy('Crime ID') \\\n",
    ".agg(F.count('Crime ID').alias('counted')) \\\n",
    ".orderBy(F.desc('counted')) \\\n",
    ".show(truncate=False)"
   ]
  },
  {
   "cell_type": "code",
   "execution_count": 17,
   "metadata": {},
   "outputs": [
    {
     "name": "stdout",
     "output_type": "stream",
     "text": [
      "+--------------------+-------+--------------------+---------+---------+----------+---------------------+---------------+\n",
      "|            Crime ID|  Month|         Reported by|Longitude| Latitude|Crime type|Last outcome category|   Outcome type|\n",
      "+--------------------+-------+--------------------+---------+---------+----------+---------------------+---------------+\n",
      "|7fcc9b48992d48225...|2022-11|Leicestershire Po...|-1.118959|52.639872|   Robbery| Awaiting court ou...|Suspect charged|\n",
      "|7fcc9b48992d48225...|2022-11|Leicestershire Po...|-1.118959|52.639872|   Robbery| Awaiting court ou...|Suspect charged|\n",
      "|7fcc9b48992d48225...|2022-11|Leicestershire Po...|-1.118959|52.639872|   Robbery| Awaiting court ou...|Suspect charged|\n",
      "|7fcc9b48992d48225...|2022-11|Leicestershire Po...|-1.118959|52.639872|   Robbery| Awaiting court ou...|Suspect charged|\n",
      "|7fcc9b48992d48225...|2022-11|Leicestershire Po...|-1.118959|52.639872|   Robbery| Awaiting court ou...|Suspect charged|\n",
      "|7fcc9b48992d48225...|2022-11|Leicestershire Po...|-1.118959|52.639872|   Robbery| Awaiting court ou...|Suspect charged|\n",
      "|7fcc9b48992d48225...|2022-11|Leicestershire Po...|-1.118959|52.639872|   Robbery| Awaiting court ou...|Suspect charged|\n",
      "|7fcc9b48992d48225...|2022-11|Leicestershire Po...|-1.118959|52.639872|   Robbery| Awaiting court ou...|Suspect charged|\n",
      "|7fcc9b48992d48225...|2022-11|Leicestershire Po...|-1.118959|52.639872|   Robbery| Awaiting court ou...|Suspect charged|\n",
      "|7fcc9b48992d48225...|2022-11|Leicestershire Po...|-1.118959|52.639872|   Robbery| Awaiting court ou...|Suspect charged|\n",
      "|7fcc9b48992d48225...|2022-11|Leicestershire Po...|-1.118959|52.639872|   Robbery| Awaiting court ou...|Suspect charged|\n",
      "|7fcc9b48992d48225...|2022-11|Leicestershire Po...|-1.118959|52.639872|   Robbery| Awaiting court ou...|Suspect charged|\n",
      "|7fcc9b48992d48225...|2022-11|Leicestershire Po...|-1.118959|52.639872|   Robbery| Awaiting court ou...|Suspect charged|\n",
      "|7fcc9b48992d48225...|2022-11|Leicestershire Po...|-1.118959|52.639872|   Robbery| Awaiting court ou...|Suspect charged|\n",
      "|7fcc9b48992d48225...|2022-11|Leicestershire Po...|-1.118959|52.639872|   Robbery| Awaiting court ou...|Suspect charged|\n",
      "|7fcc9b48992d48225...|2022-11|Leicestershire Po...|-1.118959|52.639872|   Robbery| Awaiting court ou...|Suspect charged|\n",
      "|7fcc9b48992d48225...|2022-11|Leicestershire Po...|-1.118959|52.639872|   Robbery| Awaiting court ou...|Suspect charged|\n",
      "|7fcc9b48992d48225...|2022-11|Leicestershire Po...|-1.118959|52.639872|   Robbery| Awaiting court ou...|Suspect charged|\n",
      "|7fcc9b48992d48225...|2022-11|Leicestershire Po...|-1.118959|52.639872|   Robbery| Awaiting court ou...|Suspect charged|\n",
      "|7fcc9b48992d48225...|2022-11|Leicestershire Po...|-1.118959|52.639872|   Robbery| Awaiting court ou...|Suspect charged|\n",
      "+--------------------+-------+--------------------+---------+---------+----------+---------------------+---------------+\n",
      "only showing top 20 rows\n",
      "\n"
     ]
    }
   ],
   "source": [
    "df_all.filter(F.col('Crime ID') == '7fcc9b48992d482250ab58aee146da8c1a3c9c41ecc75c97fd0d0b473031a702').show()"
   ]
  },
  {
   "cell_type": "code",
   "execution_count": 18,
   "metadata": {},
   "outputs": [
    {
     "name": "stderr",
     "output_type": "stream",
     "text": [
      "[Stage 38:===============>(15 + 1) / 16][Stage 39:===============>(15 + 1) / 16]\r"
     ]
    },
    {
     "name": "stdout",
     "output_type": "stream",
     "text": [
      "23/01/24 19:13:42 WARN RowBasedKeyValueBatch: Calling spill() on RowBasedKeyValueBatch. Will not spill but return 0.\n",
      "23/01/24 19:13:42 WARN RowBasedKeyValueBatch: Calling spill() on RowBasedKeyValueBatch. Will not spill but return 0.\n",
      "23/01/24 19:13:42 WARN RowBasedKeyValueBatch: Calling spill() on RowBasedKeyValueBatch. Will not spill but return 0.\n",
      "23/01/24 19:13:42 WARN RowBasedKeyValueBatch: Calling spill() on RowBasedKeyValueBatch. Will not spill but return 0.\n",
      "23/01/24 19:13:42 WARN RowBasedKeyValueBatch: Calling spill() on RowBasedKeyValueBatch. Will not spill but return 0.\n",
      "23/01/24 19:13:42 WARN RowBasedKeyValueBatch: Calling spill() on RowBasedKeyValueBatch. Will not spill but return 0.\n",
      "23/01/24 19:13:42 WARN RowBasedKeyValueBatch: Calling spill() on RowBasedKeyValueBatch. Will not spill but return 0.\n",
      "23/01/24 19:13:42 WARN RowBasedKeyValueBatch: Calling spill() on RowBasedKeyValueBatch. Will not spill but return 0.\n",
      "23/01/24 19:13:42 WARN RowBasedKeyValueBatch: Calling spill() on RowBasedKeyValueBatch. Will not spill but return 0.\n",
      "23/01/24 19:13:42 WARN RowBasedKeyValueBatch: Calling spill() on RowBasedKeyValueBatch. Will not spill but return 0.\n",
      "23/01/24 19:13:42 WARN RowBasedKeyValueBatch: Calling spill() on RowBasedKeyValueBatch. Will not spill but return 0.\n",
      "23/01/24 19:13:42 WARN RowBasedKeyValueBatch: Calling spill() on RowBasedKeyValueBatch. Will not spill but return 0.\n",
      "23/01/24 19:13:42 WARN RowBasedKeyValueBatch: Calling spill() on RowBasedKeyValueBatch. Will not spill but return 0.\n",
      "23/01/24 19:13:42 WARN RowBasedKeyValueBatch: Calling spill() on RowBasedKeyValueBatch. Will not spill but return 0.\n",
      "23/01/24 19:13:42 WARN RowBasedKeyValueBatch: Calling spill() on RowBasedKeyValueBatch. Will not spill but return 0.\n",
      "23/01/24 19:13:42 WARN RowBasedKeyValueBatch: Calling spill() on RowBasedKeyValueBatch. Will not spill but return 0.\n"
     ]
    },
    {
     "name": "stderr",
     "output_type": "stream",
     "text": [
      "[Stage 42:>                                                       (0 + 16) / 17]\r"
     ]
    },
    {
     "name": "stdout",
     "output_type": "stream",
     "text": [
      "23/01/24 19:13:43 WARN RowBasedKeyValueBatch: Calling spill() on RowBasedKeyValueBatch. Will not spill but return 0.\n",
      "23/01/24 19:13:43 WARN RowBasedKeyValueBatch: Calling spill() on RowBasedKeyValueBatch. Will not spill but return 0.\n",
      "23/01/24 19:13:43 WARN RowBasedKeyValueBatch: Calling spill() on RowBasedKeyValueBatch. Will not spill but return 0.\n",
      "23/01/24 19:13:43 WARN RowBasedKeyValueBatch: Calling spill() on RowBasedKeyValueBatch. Will not spill but return 0.\n",
      "23/01/24 19:13:43 WARN RowBasedKeyValueBatch: Calling spill() on RowBasedKeyValueBatch. Will not spill but return 0.\n",
      "23/01/24 19:13:43 WARN RowBasedKeyValueBatch: Calling spill() on RowBasedKeyValueBatch. Will not spill but return 0.\n",
      "23/01/24 19:13:43 WARN RowBasedKeyValueBatch: Calling spill() on RowBasedKeyValueBatch. Will not spill but return 0.\n",
      "23/01/24 19:13:43 WARN RowBasedKeyValueBatch: Calling spill() on RowBasedKeyValueBatch. Will not spill but return 0.\n",
      "23/01/24 19:13:43 WARN RowBasedKeyValueBatch: Calling spill() on RowBasedKeyValueBatch. Will not spill but return 0.\n",
      "23/01/24 19:13:43 WARN RowBasedKeyValueBatch: Calling spill() on RowBasedKeyValueBatch. Will not spill but return 0.\n",
      "23/01/24 19:13:43 WARN RowBasedKeyValueBatch: Calling spill() on RowBasedKeyValueBatch. Will not spill but return 0.\n",
      "23/01/24 19:13:43 WARN RowBasedKeyValueBatch: Calling spill() on RowBasedKeyValueBatch. Will not spill but return 0.\n",
      "23/01/24 19:13:43 WARN RowBasedKeyValueBatch: Calling spill() on RowBasedKeyValueBatch. Will not spill but return 0.\n",
      "23/01/24 19:13:43 WARN RowBasedKeyValueBatch: Calling spill() on RowBasedKeyValueBatch. Will not spill but return 0.\n",
      "23/01/24 19:13:43 WARN RowBasedKeyValueBatch: Calling spill() on RowBasedKeyValueBatch. Will not spill but return 0.\n",
      "23/01/24 19:13:43 WARN RowBasedKeyValueBatch: Calling spill() on RowBasedKeyValueBatch. Will not spill but return 0.\n",
      "23/01/24 19:13:43 WARN RowBasedKeyValueBatch: Calling spill() on RowBasedKeyValueBatch. Will not spill but return 0.\n",
      "23/01/24 19:13:43 WARN RowBasedKeyValueBatch: Calling spill() on RowBasedKeyValueBatch. Will not spill but return 0.\n",
      "23/01/24 19:13:43 WARN RowBasedKeyValueBatch: Calling spill() on RowBasedKeyValueBatch. Will not spill but return 0.\n",
      "23/01/24 19:13:43 WARN RowBasedKeyValueBatch: Calling spill() on RowBasedKeyValueBatch. Will not spill but return 0.\n",
      "23/01/24 19:13:43 WARN RowBasedKeyValueBatch: Calling spill() on RowBasedKeyValueBatch. Will not spill but return 0.\n",
      "23/01/24 19:13:43 WARN RowBasedKeyValueBatch: Calling spill() on RowBasedKeyValueBatch. Will not spill but return 0.\n",
      "23/01/24 19:13:43 WARN RowBasedKeyValueBatch: Calling spill() on RowBasedKeyValueBatch. Will not spill but return 0.\n",
      "23/01/24 19:13:43 WARN RowBasedKeyValueBatch: Calling spill() on RowBasedKeyValueBatch. Will not spill but return 0.\n",
      "23/01/24 19:13:43 WARN RowBasedKeyValueBatch: Calling spill() on RowBasedKeyValueBatch. Will not spill but return 0.\n",
      "23/01/24 19:13:43 WARN RowBasedKeyValueBatch: Calling spill() on RowBasedKeyValueBatch. Will not spill but return 0.\n",
      "23/01/24 19:13:43 WARN RowBasedKeyValueBatch: Calling spill() on RowBasedKeyValueBatch. Will not spill but return 0.\n",
      "23/01/24 19:13:43 WARN RowBasedKeyValueBatch: Calling spill() on RowBasedKeyValueBatch. Will not spill but return 0.\n",
      "23/01/24 19:13:43 WARN RowBasedKeyValueBatch: Calling spill() on RowBasedKeyValueBatch. Will not spill but return 0.\n",
      "23/01/24 19:13:43 WARN RowBasedKeyValueBatch: Calling spill() on RowBasedKeyValueBatch. Will not spill but return 0.\n",
      "23/01/24 19:13:43 WARN RowBasedKeyValueBatch: Calling spill() on RowBasedKeyValueBatch. Will not spill but return 0.\n",
      "23/01/24 19:13:43 WARN RowBasedKeyValueBatch: Calling spill() on RowBasedKeyValueBatch. Will not spill but return 0.\n",
      "23/01/24 19:13:44 WARN RowBasedKeyValueBatch: Calling spill() on RowBasedKeyValueBatch. Will not spill but return 0.\n",
      "23/01/24 19:13:44 WARN RowBasedKeyValueBatch: Calling spill() on RowBasedKeyValueBatch. Will not spill but return 0.\n",
      "23/01/24 19:13:44 WARN RowBasedKeyValueBatch: Calling spill() on RowBasedKeyValueBatch. Will not spill but return 0.\n",
      "23/01/24 19:13:44 WARN RowBasedKeyValueBatch: Calling spill() on RowBasedKeyValueBatch. Will not spill but return 0.\n",
      "23/01/24 19:13:44 WARN RowBasedKeyValueBatch: Calling spill() on RowBasedKeyValueBatch. Will not spill but return 0.\n",
      "23/01/24 19:13:44 WARN RowBasedKeyValueBatch: Calling spill() on RowBasedKeyValueBatch. Will not spill but return 0.\n",
      "23/01/24 19:13:44 WARN RowBasedKeyValueBatch: Calling spill() on RowBasedKeyValueBatch. Will not spill but return 0.\n",
      "23/01/24 19:13:44 WARN RowBasedKeyValueBatch: Calling spill() on RowBasedKeyValueBatch. Will not spill but return 0.\n",
      "23/01/24 19:13:44 WARN RowBasedKeyValueBatch: Calling spill() on RowBasedKeyValueBatch. Will not spill but return 0.\n",
      "23/01/24 19:13:44 WARN RowBasedKeyValueBatch: Calling spill() on RowBasedKeyValueBatch. Will not spill but return 0.\n",
      "23/01/24 19:13:44 WARN RowBasedKeyValueBatch: Calling spill() on RowBasedKeyValueBatch. Will not spill but return 0.\n",
      "23/01/24 19:13:44 WARN RowBasedKeyValueBatch: Calling spill() on RowBasedKeyValueBatch. Will not spill but return 0.\n",
      "23/01/24 19:13:44 WARN RowBasedKeyValueBatch: Calling spill() on RowBasedKeyValueBatch. Will not spill but return 0.\n",
      "23/01/24 19:13:44 WARN RowBasedKeyValueBatch: Calling spill() on RowBasedKeyValueBatch. Will not spill but return 0.\n",
      "23/01/24 19:13:44 WARN RowBasedKeyValueBatch: Calling spill() on RowBasedKeyValueBatch. Will not spill but return 0.\n",
      "23/01/24 19:13:44 WARN RowBasedKeyValueBatch: Calling spill() on RowBasedKeyValueBatch. Will not spill but return 0.\n",
      "23/01/24 19:13:44 WARN RowBasedKeyValueBatch: Calling spill() on RowBasedKeyValueBatch. Will not spill but return 0.\n",
      "23/01/24 19:13:44 WARN RowBasedKeyValueBatch: Calling spill() on RowBasedKeyValueBatch. Will not spill but return 0.\n",
      "23/01/24 19:13:44 WARN RowBasedKeyValueBatch: Calling spill() on RowBasedKeyValueBatch. Will not spill but return 0.\n",
      "23/01/24 19:13:44 WARN RowBasedKeyValueBatch: Calling spill() on RowBasedKeyValueBatch. Will not spill but return 0.\n",
      "23/01/24 19:13:44 WARN RowBasedKeyValueBatch: Calling spill() on RowBasedKeyValueBatch. Will not spill but return 0.\n",
      "23/01/24 19:13:44 WARN RowBasedKeyValueBatch: Calling spill() on RowBasedKeyValueBatch. Will not spill but return 0.\n",
      "23/01/24 19:13:44 WARN RowBasedKeyValueBatch: Calling spill() on RowBasedKeyValueBatch. Will not spill but return 0.\n",
      "23/01/24 19:13:44 WARN RowBasedKeyValueBatch: Calling spill() on RowBasedKeyValueBatch. Will not spill but return 0.\n",
      "23/01/24 19:13:44 WARN RowBasedKeyValueBatch: Calling spill() on RowBasedKeyValueBatch. Will not spill but return 0.\n",
      "23/01/24 19:13:44 WARN RowBasedKeyValueBatch: Calling spill() on RowBasedKeyValueBatch. Will not spill but return 0.\n",
      "23/01/24 19:13:44 WARN RowBasedKeyValueBatch: Calling spill() on RowBasedKeyValueBatch. Will not spill but return 0.\n",
      "23/01/24 19:13:44 WARN RowBasedKeyValueBatch: Calling spill() on RowBasedKeyValueBatch. Will not spill but return 0.\n",
      "23/01/24 19:13:44 WARN RowBasedKeyValueBatch: Calling spill() on RowBasedKeyValueBatch. Will not spill but return 0.\n",
      "23/01/24 19:13:44 WARN RowBasedKeyValueBatch: Calling spill() on RowBasedKeyValueBatch. Will not spill but return 0.\n",
      "23/01/24 19:13:44 WARN RowBasedKeyValueBatch: Calling spill() on RowBasedKeyValueBatch. Will not spill but return 0.\n",
      "23/01/24 19:13:44 WARN RowBasedKeyValueBatch: Calling spill() on RowBasedKeyValueBatch. Will not spill but return 0.\n"
     ]
    },
    {
     "name": "stderr",
     "output_type": "stream",
     "text": [
      "[Stage 42:====================================================>   (16 + 1) / 17]\r"
     ]
    },
    {
     "name": "stdout",
     "output_type": "stream",
     "text": [
      "+--------------------+-------+--------------------+---------+---------+--------------------+---------------------+--------------------+-----+\n",
      "|            Crime ID|  Month|         Reported by|Longitude| Latitude|          Crime type|Last outcome category|        Outcome type|count|\n",
      "+--------------------+-------+--------------------+---------+---------+--------------------+---------------------+--------------------+-----+\n",
      "|7fcc9b48992d48225...|2022-11|Leicestershire Po...|-1.118959|52.639872|             Robbery| Awaiting court ou...|     Suspect charged|   42|\n",
      "|fd05ba733e6b3b437...|2022-11|Leicestershire Po...|-1.209047|52.772487|        Public order|     Local resolution|    Local resolution|   25|\n",
      "|3c6e1f8ede437daf0...|2022-10|Metropolitan Poli...|-0.069378|51.592897|               Drugs|  Under investigation|    Local resolution|   20|\n",
      "|5cf6d39519b1ab460...|2022-08|Metropolitan Poli...|-0.153797|51.320944|         Other crime|  Under investigation|                null|   17|\n",
      "|5b97a52e34e897a38...|2022-08|Metropolitan Poli...|-0.185702|51.363106|            Burglary|  Under investigation|     Suspect charged|   16|\n",
      "|b70ecd551c578cc5a...|2022-09|Metropolitan Poli...|-0.289225|51.556814|Violence and sexu...|  Under investigation|     Suspect charged|   16|\n",
      "|e526b855d7e417f81...|2022-11|North Yorkshire P...|-1.460936|54.010535|         Other crime|  Under investigation|                null|   15|\n",
      "|8e4a865bdeb256f49...|2022-11|Metropolitan Poli...|-0.134704|51.535494|Violence and sexu...|  Under investigation|     Suspect charged|   14|\n",
      "|7f2105af617d40da3...|2022-09|South Yorkshire P...|-1.349903|53.432968|Violence and sexu...| Awaiting court ou...|     Suspect charged|   14|\n",
      "|d8643c77c1b5e32c3...|2022-08|  Northumbria Police|-1.406176|54.903597|         Other theft| Awaiting court ou...|     Suspect charged|   14|\n",
      "|ca2e366f2d8d0d7e7...|2022-10|Devon & Cornwall ...|-3.477704|50.720069|               Drugs| Awaiting court ou...|     Suspect charged|   14|\n",
      "|eb0a27df368f39e64...|2022-08|Cambridgeshire Co...|-0.269808|52.556503|             Robbery| Awaiting court ou...|     Suspect charged|   13|\n",
      "|7ee5fc261689e7276...|2022-08|Greater Mancheste...|-1.134336|52.630528|Violence and sexu...|  Under investigation|                null|   13|\n",
      "|b413e939b7666421a...|2022-09|Leicestershire Po...|-1.182562|52.647115|        Public order| Offender given a ...|Offender given a ...|   12|\n",
      "|1c9450bee2283bcb6...|2022-10|  Northumbria Police|-1.524983|55.072618|         Shoplifting| Awaiting court ou...|     Suspect charged|   12|\n",
      "|a69ec5c9e9d130883...|2022-10|Thames Valley Police|-0.640303|51.512436|Violence and sexu...| Awaiting court ou...|     Suspect charged|   11|\n",
      "|a658be7388e5aad27...|2022-10|Metropolitan Poli...|-0.113723|51.511103|Theft from the pe...|  Under investigation|                null|   11|\n",
      "|ac51e51d421256076...|2022-09|Metropolitan Poli...|-0.104029|51.666526|Violence and sexu...|  Under investigation|                null|   11|\n",
      "|1da40037e8f943502...|2022-11|Metropolitan Poli...| -0.19933|51.543527|Violence and sexu...|  Under investigation|                null|   10|\n",
      "|21121b75eb03b1976...|2022-09|Metropolitan Poli...|-0.445211|51.457633|       Vehicle crime| Investigation com...|Investigation com...|   10|\n",
      "+--------------------+-------+--------------------+---------+---------+--------------------+---------------------+--------------------+-----+\n",
      "only showing top 20 rows\n",
      "\n"
     ]
    },
    {
     "name": "stderr",
     "output_type": "stream",
     "text": [
      "                                                                                \r"
     ]
    }
   ],
   "source": [
    "df_all \\\n",
    ".groupby(['Crime ID', 'Month', 'Reported by', 'Longitude', 'Latitude', 'Crime type', 'Last outcome category', 'Outcome type']) \\\n",
    ".count() \\\n",
    ".where('count > 1') \\\n",
    ".sort('count', ascending=False) \\\n",
    ".show()"
   ]
  },
  {
   "attachments": {},
   "cell_type": "markdown",
   "metadata": {},
   "source": [
    "#### We see for some Crime ID we have many duplicates. Remove them!"
   ]
  },
  {
   "cell_type": "code",
   "execution_count": 18,
   "metadata": {},
   "outputs": [
    {
     "name": "stderr",
     "output_type": "stream",
     "text": [
      "                                                                                \r"
     ]
    },
    {
     "name": "stdout",
     "output_type": "stream",
     "text": [
      "Before dropping of duplicates, count: 1795490\n"
     ]
    },
    {
     "name": "stderr",
     "output_type": "stream",
     "text": [
      "[Stage 51:=============>                                          (4 + 13) / 17]\r"
     ]
    },
    {
     "name": "stdout",
     "output_type": "stream",
     "text": [
      "Rows remained, count: 1740882\n"
     ]
    },
    {
     "name": "stderr",
     "output_type": "stream",
     "text": [
      "                                                                                \r"
     ]
    }
   ],
   "source": [
    "print(f\"Before dropping of duplicates, count: {df_all.count()}\")\n",
    "df_all = df_all.dropDuplicates()\n",
    "print(f\"Rows remained, count: {df_all.count()}\")"
   ]
  },
  {
   "attachments": {},
   "cell_type": "markdown",
   "metadata": {},
   "source": [
    "#### Check Outcomes in final DataFrame. Create lastOutcome column and init it as specified:\n",
    "i. The last outcome should be taken from the <district>-outcomes.csv file\n",
    "where the crime IDs match. If there is no matching data use the data\n",
    "listed in the original <district>.csv file."
   ]
  },
  {
   "cell_type": "code",
   "execution_count": 19,
   "metadata": {},
   "outputs": [
    {
     "name": "stderr",
     "output_type": "stream",
     "text": [
      "[Stage 56:===============>(15 + 1) / 16][Stage 57:============>   (12 + 4) / 16]\r"
     ]
    },
    {
     "name": "stdout",
     "output_type": "stream",
     "text": [
      "+--------------------+--------------------+---------------------+--------------------+--------------------+\n",
      "|            Crime ID|          Crime type|Last outcome category|        Outcome type|         lastOutcome|\n",
      "+--------------------+--------------------+---------------------+--------------------+--------------------+\n",
      "|0000660af187ccfe0...|Violence and sexu...| Offender given a ...|Offender given a ...|Offender given a ...|\n",
      "|000149eacb36e3c22...|Violence and sexu...| Awaiting court ou...|     Suspect charged|     Suspect charged|\n",
      "|0001c071762e069d7...|Violence and sexu...|  Under investigation|                null| Under investigation|\n",
      "|000246aee3bfa4abb...|       Vehicle crime| Investigation com...|Investigation com...|Investigation com...|\n",
      "|0002d7d5a5a237ce5...|Violence and sexu...| Unable to prosecu...|Unable to prosecu...|Unable to prosecu...|\n",
      "|000516cf06f6c1629...|Violence and sexu...| Awaiting court ou...|     Suspect charged|     Suspect charged|\n",
      "|0005521e6136a6ed6...|Violence and sexu...|  Under investigation|                null| Under investigation|\n",
      "|000564cee44fde54a...|       Vehicle crime| Investigation com...|Investigation com...|Investigation com...|\n",
      "|00061026311fd28cd...|Violence and sexu...| Unable to prosecu...|Unable to prosecu...|Unable to prosecu...|\n",
      "|00070ab37ebcc1333...|Violence and sexu...|  Under investigation|                null| Under investigation|\n",
      "|000717eef53271ff0...|Violence and sexu...| Investigation com...|Investigation com...|Investigation com...|\n",
      "|000756f1015445e64...|        Public order|  Under investigation|                null| Under investigation|\n",
      "|0007596164e4dde4e...|Violence and sexu...| Unable to prosecu...|Unable to prosecu...|Unable to prosecu...|\n",
      "|0008086bd4fcd3826...|Violence and sexu...| Unable to prosecu...|Unable to prosecu...|Unable to prosecu...|\n",
      "|0009b00e7245ee4ff...|         Other theft|  Under investigation|                null| Under investigation|\n",
      "|000ae15ee1afa8b21...|Violence and sexu...| Unable to prosecu...|Unable to prosecu...|Unable to prosecu...|\n",
      "|000b3522a56720e5c...|       Vehicle crime| Investigation com...|Investigation com...|Investigation com...|\n",
      "|000d2c4255b4c51cb...|            Burglary|  Under investigation|                null| Under investigation|\n",
      "|000dcbaeb348a2fb5...|Criminal damage a...| Investigation com...|Investigation com...|Investigation com...|\n",
      "|000dfe6c2fbf83f18...|Criminal damage a...| Investigation com...|Investigation com...|Investigation com...|\n",
      "+--------------------+--------------------+---------------------+--------------------+--------------------+\n",
      "only showing top 20 rows\n",
      "\n"
     ]
    },
    {
     "name": "stderr",
     "output_type": "stream",
     "text": [
      "                                                                                \r"
     ]
    }
   ],
   "source": [
    "df_all.withColumn('lastOutcome', F.when(F.col('Outcome type') != 'null', F.col('Outcome type')).otherwise(F.col('Last outcome category'))) \\\n",
    "      .select('Crime ID', 'Crime type', 'Last outcome category', 'Outcome type', 'lastOutcome')\\\n",
    "      .show()"
   ]
  },
  {
   "cell_type": "code",
   "execution_count": 20,
   "metadata": {},
   "outputs": [
    {
     "name": "stderr",
     "output_type": "stream",
     "text": [
      "[Stage 61:===============>(15 + 1) / 16][Stage 62:=============>  (13 + 3) / 16]\r"
     ]
    },
    {
     "name": "stdout",
     "output_type": "stream",
     "text": [
      "+--------------------+--------------------+---------+---------+--------------------+--------------------+\n",
      "|             crimeId|        districtName| latitude|longitude|           crimeType|         lastOutcome|\n",
      "+--------------------+--------------------+---------+---------+--------------------+--------------------+\n",
      "|0000660af187ccfe0...|Suffolk Constabulary|52.458968| 1.698238|Violence and sexu...|Offender given a ...|\n",
      "|000149eacb36e3c22...|South Yorkshire P...|53.413767|-1.459857|Violence and sexu...|     Suspect charged|\n",
      "|0001c071762e069d7...|West Yorkshire Po...|      0.0|      0.0|Violence and sexu...| Under investigation|\n",
      "|000246aee3bfa4abb...|  South Wales Police|51.496043|-3.146369|       Vehicle crime|Investigation com...|\n",
      "|0002d7d5a5a237ce5...|Leicestershire Po...|52.638846|-1.055671|Violence and sexu...|Unable to prosecu...|\n",
      "+--------------------+--------------------+---------+---------+--------------------+--------------------+\n",
      "only showing top 5 rows\n",
      "\n"
     ]
    },
    {
     "name": "stderr",
     "output_type": "stream",
     "text": [
      "                                                                                \r"
     ]
    }
   ],
   "source": [
    "df_all = (df_all.withColumn('lastOutcome', \n",
    "                F.when(F.col('Outcome type') != 'null', F.col('Outcome type'))\n",
    "                .otherwise(F.col('Last outcome category')))            \n",
    "            .withColumnRenamed('Crime ID', 'crimeId')\n",
    "            .withColumnRenamed('Reported by', 'districtName')\n",
    "            .withColumnRenamed('Longitude', 'longitude')\n",
    "            .withColumnRenamed('Latitude', 'latitude')\n",
    "            .withColumnRenamed('Crime type', 'crimeType')\n",
    "            .select('crimeId', 'districtName', 'latitude', 'longitude', 'crimeType', 'lastOutcome')\n",
    ")\n",
    "\n",
    "df_all.show(5)"
   ]
  },
  {
   "attachments": {},
   "cell_type": "markdown",
   "metadata": {},
   "source": [
    "#### Aggregate some statistics on the data"
   ]
  },
  {
   "cell_type": "code",
   "execution_count": 21,
   "metadata": {},
   "outputs": [
    {
     "name": "stderr",
     "output_type": "stream",
     "text": [
      "[Stage 75:====================================================>   (15 + 1) / 16]\r"
     ]
    },
    {
     "name": "stdout",
     "output_type": "stream",
     "text": [
      "23/01/24 19:02:49 WARN RowBasedKeyValueBatch: Calling spill() on RowBasedKeyValueBatch. Will not spill but return 0.\n",
      "23/01/24 19:02:49 WARN RowBasedKeyValueBatch: Calling spill() on RowBasedKeyValueBatch. Will not spill but return 0.\n",
      "23/01/24 19:02:49 WARN RowBasedKeyValueBatch: Calling spill() on RowBasedKeyValueBatch. Will not spill but return 0.\n",
      "23/01/24 19:02:49 WARN RowBasedKeyValueBatch: Calling spill() on RowBasedKeyValueBatch. Will not spill but return 0.\n",
      "23/01/24 19:02:49 WARN RowBasedKeyValueBatch: Calling spill() on RowBasedKeyValueBatch. Will not spill but return 0.\n",
      "23/01/24 19:02:49 WARN RowBasedKeyValueBatch: Calling spill() on RowBasedKeyValueBatch. Will not spill but return 0.\n",
      "23/01/24 19:02:49 WARN RowBasedKeyValueBatch: Calling spill() on RowBasedKeyValueBatch. Will not spill but return 0.\n",
      "23/01/24 19:02:49 WARN RowBasedKeyValueBatch: Calling spill() on RowBasedKeyValueBatch. Will not spill but return 0.\n",
      "23/01/24 19:02:49 WARN RowBasedKeyValueBatch: Calling spill() on RowBasedKeyValueBatch. Will not spill but return 0.\n",
      "23/01/24 19:02:49 WARN RowBasedKeyValueBatch: Calling spill() on RowBasedKeyValueBatch. Will not spill but return 0.\n",
      "23/01/24 19:02:49 WARN RowBasedKeyValueBatch: Calling spill() on RowBasedKeyValueBatch. Will not spill but return 0.\n",
      "23/01/24 19:02:49 WARN RowBasedKeyValueBatch: Calling spill() on RowBasedKeyValueBatch. Will not spill but return 0.\n",
      "23/01/24 19:02:49 WARN RowBasedKeyValueBatch: Calling spill() on RowBasedKeyValueBatch. Will not spill but return 0.\n",
      "23/01/24 19:02:49 WARN RowBasedKeyValueBatch: Calling spill() on RowBasedKeyValueBatch. Will not spill but return 0.\n",
      "23/01/24 19:02:49 WARN RowBasedKeyValueBatch: Calling spill() on RowBasedKeyValueBatch. Will not spill but return 0.\n",
      "23/01/24 19:02:49 WARN RowBasedKeyValueBatch: Calling spill() on RowBasedKeyValueBatch. Will not spill but return 0.\n"
     ]
    },
    {
     "name": "stderr",
     "output_type": "stream",
     "text": [
      "[Stage 79:>                                                       (0 + 16) / 17]\r"
     ]
    },
    {
     "name": "stdout",
     "output_type": "stream",
     "text": [
      "23/01/24 19:02:50 WARN RowBasedKeyValueBatch: Calling spill() on RowBasedKeyValueBatch. Will not spill but return 0.\n",
      "23/01/24 19:02:50 WARN RowBasedKeyValueBatch: Calling spill() on RowBasedKeyValueBatch. Will not spill but return 0.\n",
      "23/01/24 19:02:50 WARN RowBasedKeyValueBatch: Calling spill() on RowBasedKeyValueBatch. Will not spill but return 0.\n",
      "23/01/24 19:02:50 WARN RowBasedKeyValueBatch: Calling spill() on RowBasedKeyValueBatch. Will not spill but return 0.\n",
      "23/01/24 19:02:50 WARN RowBasedKeyValueBatch: Calling spill() on RowBasedKeyValueBatch. Will not spill but return 0.\n",
      "23/01/24 19:02:50 WARN RowBasedKeyValueBatch: Calling spill() on RowBasedKeyValueBatch. Will not spill but return 0.\n",
      "23/01/24 19:02:50 WARN RowBasedKeyValueBatch: Calling spill() on RowBasedKeyValueBatch. Will not spill but return 0.\n",
      "23/01/24 19:02:50 WARN RowBasedKeyValueBatch: Calling spill() on RowBasedKeyValueBatch. Will not spill but return 0.\n",
      "23/01/24 19:02:50 WARN RowBasedKeyValueBatch: Calling spill() on RowBasedKeyValueBatch. Will not spill but return 0.\n",
      "23/01/24 19:02:50 WARN RowBasedKeyValueBatch: Calling spill() on RowBasedKeyValueBatch. Will not spill but return 0.\n",
      "23/01/24 19:02:50 WARN RowBasedKeyValueBatch: Calling spill() on RowBasedKeyValueBatch. Will not spill but return 0.\n",
      "23/01/24 19:02:50 WARN RowBasedKeyValueBatch: Calling spill() on RowBasedKeyValueBatch. Will not spill but return 0.\n",
      "23/01/24 19:02:50 WARN RowBasedKeyValueBatch: Calling spill() on RowBasedKeyValueBatch. Will not spill but return 0.\n",
      "23/01/24 19:02:50 WARN RowBasedKeyValueBatch: Calling spill() on RowBasedKeyValueBatch. Will not spill but return 0.\n",
      "23/01/24 19:02:50 WARN RowBasedKeyValueBatch: Calling spill() on RowBasedKeyValueBatch. Will not spill but return 0.\n",
      "23/01/24 19:02:50 WARN RowBasedKeyValueBatch: Calling spill() on RowBasedKeyValueBatch. Will not spill but return 0.\n",
      "23/01/24 19:02:50 WARN RowBasedKeyValueBatch: Calling spill() on RowBasedKeyValueBatch. Will not spill but return 0.\n",
      "23/01/24 19:02:50 WARN RowBasedKeyValueBatch: Calling spill() on RowBasedKeyValueBatch. Will not spill but return 0.\n",
      "23/01/24 19:02:50 WARN RowBasedKeyValueBatch: Calling spill() on RowBasedKeyValueBatch. Will not spill but return 0.\n",
      "23/01/24 19:02:50 WARN RowBasedKeyValueBatch: Calling spill() on RowBasedKeyValueBatch. Will not spill but return 0.\n",
      "23/01/24 19:02:50 WARN RowBasedKeyValueBatch: Calling spill() on RowBasedKeyValueBatch. Will not spill but return 0.\n",
      "23/01/24 19:02:50 WARN RowBasedKeyValueBatch: Calling spill() on RowBasedKeyValueBatch. Will not spill but return 0.\n",
      "23/01/24 19:02:50 WARN RowBasedKeyValueBatch: Calling spill() on RowBasedKeyValueBatch. Will not spill but return 0.\n",
      "23/01/24 19:02:50 WARN RowBasedKeyValueBatch: Calling spill() on RowBasedKeyValueBatch. Will not spill but return 0.\n",
      "23/01/24 19:02:50 WARN RowBasedKeyValueBatch: Calling spill() on RowBasedKeyValueBatch. Will not spill but return 0.\n",
      "23/01/24 19:02:50 WARN RowBasedKeyValueBatch: Calling spill() on RowBasedKeyValueBatch. Will not spill but return 0.\n",
      "23/01/24 19:02:50 WARN RowBasedKeyValueBatch: Calling spill() on RowBasedKeyValueBatch. Will not spill but return 0.\n",
      "23/01/24 19:02:50 WARN RowBasedKeyValueBatch: Calling spill() on RowBasedKeyValueBatch. Will not spill but return 0.\n",
      "23/01/24 19:02:50 WARN RowBasedKeyValueBatch: Calling spill() on RowBasedKeyValueBatch. Will not spill but return 0.\n",
      "23/01/24 19:02:50 WARN RowBasedKeyValueBatch: Calling spill() on RowBasedKeyValueBatch. Will not spill but return 0.\n",
      "23/01/24 19:02:50 WARN RowBasedKeyValueBatch: Calling spill() on RowBasedKeyValueBatch. Will not spill but return 0.\n",
      "23/01/24 19:02:50 WARN RowBasedKeyValueBatch: Calling spill() on RowBasedKeyValueBatch. Will not spill but return 0.\n",
      "23/01/24 19:02:50 WARN RowBasedKeyValueBatch: Calling spill() on RowBasedKeyValueBatch. Will not spill but return 0.\n",
      "23/01/24 19:02:50 WARN RowBasedKeyValueBatch: Calling spill() on RowBasedKeyValueBatch. Will not spill but return 0.\n",
      "23/01/24 19:02:50 WARN RowBasedKeyValueBatch: Calling spill() on RowBasedKeyValueBatch. Will not spill but return 0.\n",
      "23/01/24 19:02:50 WARN RowBasedKeyValueBatch: Calling spill() on RowBasedKeyValueBatch. Will not spill but return 0.\n",
      "23/01/24 19:02:50 WARN RowBasedKeyValueBatch: Calling spill() on RowBasedKeyValueBatch. Will not spill but return 0.\n",
      "23/01/24 19:02:50 WARN RowBasedKeyValueBatch: Calling spill() on RowBasedKeyValueBatch. Will not spill but return 0.\n",
      "23/01/24 19:02:50 WARN RowBasedKeyValueBatch: Calling spill() on RowBasedKeyValueBatch. Will not spill but return 0.\n",
      "23/01/24 19:02:50 WARN RowBasedKeyValueBatch: Calling spill() on RowBasedKeyValueBatch. Will not spill but return 0.\n",
      "23/01/24 19:02:50 WARN RowBasedKeyValueBatch: Calling spill() on RowBasedKeyValueBatch. Will not spill but return 0.\n",
      "23/01/24 19:02:50 WARN RowBasedKeyValueBatch: Calling spill() on RowBasedKeyValueBatch. Will not spill but return 0.\n",
      "23/01/24 19:02:50 WARN RowBasedKeyValueBatch: Calling spill() on RowBasedKeyValueBatch. Will not spill but return 0.\n",
      "23/01/24 19:02:50 WARN RowBasedKeyValueBatch: Calling spill() on RowBasedKeyValueBatch. Will not spill but return 0.\n",
      "23/01/24 19:02:50 WARN RowBasedKeyValueBatch: Calling spill() on RowBasedKeyValueBatch. Will not spill but return 0.\n",
      "23/01/24 19:02:50 WARN RowBasedKeyValueBatch: Calling spill() on RowBasedKeyValueBatch. Will not spill but return 0.\n",
      "23/01/24 19:02:50 WARN RowBasedKeyValueBatch: Calling spill() on RowBasedKeyValueBatch. Will not spill but return 0.\n",
      "23/01/24 19:02:50 WARN RowBasedKeyValueBatch: Calling spill() on RowBasedKeyValueBatch. Will not spill but return 0.\n",
      "23/01/24 19:02:50 WARN RowBasedKeyValueBatch: Calling spill() on RowBasedKeyValueBatch. Will not spill but return 0.\n",
      "23/01/24 19:02:50 WARN RowBasedKeyValueBatch: Calling spill() on RowBasedKeyValueBatch. Will not spill but return 0.\n",
      "23/01/24 19:02:50 WARN RowBasedKeyValueBatch: Calling spill() on RowBasedKeyValueBatch. Will not spill but return 0.\n",
      "23/01/24 19:02:50 WARN RowBasedKeyValueBatch: Calling spill() on RowBasedKeyValueBatch. Will not spill but return 0.\n",
      "23/01/24 19:02:50 WARN RowBasedKeyValueBatch: Calling spill() on RowBasedKeyValueBatch. Will not spill but return 0.\n",
      "23/01/24 19:02:50 WARN RowBasedKeyValueBatch: Calling spill() on RowBasedKeyValueBatch. Will not spill but return 0.\n",
      "23/01/24 19:02:50 WARN RowBasedKeyValueBatch: Calling spill() on RowBasedKeyValueBatch. Will not spill but return 0.\n",
      "23/01/24 19:02:51 WARN RowBasedKeyValueBatch: Calling spill() on RowBasedKeyValueBatch. Will not spill but return 0.\n",
      "23/01/24 19:02:51 WARN RowBasedKeyValueBatch: Calling spill() on RowBasedKeyValueBatch. Will not spill but return 0.\n",
      "23/01/24 19:02:51 WARN RowBasedKeyValueBatch: Calling spill() on RowBasedKeyValueBatch. Will not spill but return 0.\n",
      "23/01/24 19:02:51 WARN RowBasedKeyValueBatch: Calling spill() on RowBasedKeyValueBatch. Will not spill but return 0.\n",
      "23/01/24 19:02:51 WARN RowBasedKeyValueBatch: Calling spill() on RowBasedKeyValueBatch. Will not spill but return 0.\n",
      "23/01/24 19:02:51 WARN RowBasedKeyValueBatch: Calling spill() on RowBasedKeyValueBatch. Will not spill but return 0.\n",
      "23/01/24 19:02:51 WARN RowBasedKeyValueBatch: Calling spill() on RowBasedKeyValueBatch. Will not spill but return 0.\n",
      "23/01/24 19:02:51 WARN RowBasedKeyValueBatch: Calling spill() on RowBasedKeyValueBatch. Will not spill but return 0.\n",
      "23/01/24 19:02:51 WARN RowBasedKeyValueBatch: Calling spill() on RowBasedKeyValueBatch. Will not spill but return 0.\n",
      "23/01/24 19:02:52 WARN RowBasedKeyValueBatch: Calling spill() on RowBasedKeyValueBatch. Will not spill but return 0.\n",
      "23/01/24 19:02:52 WARN RowBasedKeyValueBatch: Calling spill() on RowBasedKeyValueBatch. Will not spill but return 0.\n",
      "23/01/24 19:02:52 WARN RowBasedKeyValueBatch: Calling spill() on RowBasedKeyValueBatch. Will not spill but return 0.\n",
      "23/01/24 19:02:52 WARN RowBasedKeyValueBatch: Calling spill() on RowBasedKeyValueBatch. Will not spill but return 0.\n",
      "23/01/24 19:02:52 WARN RowBasedKeyValueBatch: Calling spill() on RowBasedKeyValueBatch. Will not spill but return 0.\n",
      "23/01/24 19:02:52 WARN RowBasedKeyValueBatch: Calling spill() on RowBasedKeyValueBatch. Will not spill but return 0.\n",
      "23/01/24 19:02:52 WARN RowBasedKeyValueBatch: Calling spill() on RowBasedKeyValueBatch. Will not spill but return 0.\n",
      "23/01/24 19:02:52 WARN RowBasedKeyValueBatch: Calling spill() on RowBasedKeyValueBatch. Will not spill but return 0.\n",
      "23/01/24 19:02:52 WARN RowBasedKeyValueBatch: Calling spill() on RowBasedKeyValueBatch. Will not spill but return 0.\n",
      "23/01/24 19:02:52 WARN RowBasedKeyValueBatch: Calling spill() on RowBasedKeyValueBatch. Will not spill but return 0.\n",
      "23/01/24 19:02:52 WARN RowBasedKeyValueBatch: Calling spill() on RowBasedKeyValueBatch. Will not spill but return 0.\n",
      "23/01/24 19:02:52 WARN RowBasedKeyValueBatch: Calling spill() on RowBasedKeyValueBatch. Will not spill but return 0.\n",
      "23/01/24 19:02:52 WARN RowBasedKeyValueBatch: Calling spill() on RowBasedKeyValueBatch. Will not spill but return 0.\n",
      "23/01/24 19:02:52 WARN RowBasedKeyValueBatch: Calling spill() on RowBasedKeyValueBatch. Will not spill but return 0.\n",
      "23/01/24 19:02:52 WARN RowBasedKeyValueBatch: Calling spill() on RowBasedKeyValueBatch. Will not spill but return 0.\n",
      "23/01/24 19:02:52 WARN RowBasedKeyValueBatch: Calling spill() on RowBasedKeyValueBatch. Will not spill but return 0.\n",
      "23/01/24 19:02:52 WARN RowBasedKeyValueBatch: Calling spill() on RowBasedKeyValueBatch. Will not spill but return 0.\n",
      "23/01/24 19:02:52 WARN RowBasedKeyValueBatch: Calling spill() on RowBasedKeyValueBatch. Will not spill but return 0.\n",
      "23/01/24 19:02:52 WARN RowBasedKeyValueBatch: Calling spill() on RowBasedKeyValueBatch. Will not spill but return 0.\n",
      "23/01/24 19:02:52 WARN RowBasedKeyValueBatch: Calling spill() on RowBasedKeyValueBatch. Will not spill but return 0.\n",
      "23/01/24 19:02:52 WARN RowBasedKeyValueBatch: Calling spill() on RowBasedKeyValueBatch. Will not spill but return 0.\n",
      "23/01/24 19:02:52 WARN RowBasedKeyValueBatch: Calling spill() on RowBasedKeyValueBatch. Will not spill but return 0.\n",
      "23/01/24 19:02:52 WARN RowBasedKeyValueBatch: Calling spill() on RowBasedKeyValueBatch. Will not spill but return 0.\n",
      "23/01/24 19:02:52 WARN RowBasedKeyValueBatch: Calling spill() on RowBasedKeyValueBatch. Will not spill but return 0.\n",
      "23/01/24 19:02:52 WARN RowBasedKeyValueBatch: Calling spill() on RowBasedKeyValueBatch. Will not spill but return 0.\n",
      "23/01/24 19:02:52 WARN RowBasedKeyValueBatch: Calling spill() on RowBasedKeyValueBatch. Will not spill but return 0.\n",
      "23/01/24 19:02:52 WARN RowBasedKeyValueBatch: Calling spill() on RowBasedKeyValueBatch. Will not spill but return 0.\n",
      "23/01/24 19:02:52 WARN RowBasedKeyValueBatch: Calling spill() on RowBasedKeyValueBatch. Will not spill but return 0.\n",
      "23/01/24 19:02:52 WARN RowBasedKeyValueBatch: Calling spill() on RowBasedKeyValueBatch. Will not spill but return 0.\n",
      "23/01/24 19:02:52 WARN RowBasedKeyValueBatch: Calling spill() on RowBasedKeyValueBatch. Will not spill but return 0.\n",
      "23/01/24 19:02:52 WARN RowBasedKeyValueBatch: Calling spill() on RowBasedKeyValueBatch. Will not spill but return 0.\n",
      "23/01/24 19:02:52 WARN RowBasedKeyValueBatch: Calling spill() on RowBasedKeyValueBatch. Will not spill but return 0.\n"
     ]
    },
    {
     "name": "stderr",
     "output_type": "stream",
     "text": [
      "[Stage 99:====================================================>   (15 + 1) / 16]\r"
     ]
    },
    {
     "name": "stdout",
     "output_type": "stream",
     "text": [
      "23/01/24 19:02:55 WARN RowBasedKeyValueBatch: Calling spill() on RowBasedKeyValueBatch. Will not spill but return 0.\n",
      "23/01/24 19:02:55 WARN RowBasedKeyValueBatch: Calling spill() on RowBasedKeyValueBatch. Will not spill but return 0.\n",
      "23/01/24 19:02:55 WARN RowBasedKeyValueBatch: Calling spill() on RowBasedKeyValueBatch. Will not spill but return 0.\n",
      "23/01/24 19:02:55 WARN RowBasedKeyValueBatch: Calling spill() on RowBasedKeyValueBatch. Will not spill but return 0.\n",
      "23/01/24 19:02:55 WARN RowBasedKeyValueBatch: Calling spill() on RowBasedKeyValueBatch. Will not spill but return 0.\n",
      "23/01/24 19:02:55 WARN RowBasedKeyValueBatch: Calling spill() on RowBasedKeyValueBatch. Will not spill but return 0.\n",
      "23/01/24 19:02:55 WARN RowBasedKeyValueBatch: Calling spill() on RowBasedKeyValueBatch. Will not spill but return 0.\n",
      "23/01/24 19:02:55 WARN RowBasedKeyValueBatch: Calling spill() on RowBasedKeyValueBatch. Will not spill but return 0.\n",
      "23/01/24 19:02:55 WARN RowBasedKeyValueBatch: Calling spill() on RowBasedKeyValueBatch. Will not spill but return 0.\n",
      "23/01/24 19:02:55 WARN RowBasedKeyValueBatch: Calling spill() on RowBasedKeyValueBatch. Will not spill but return 0.\n",
      "23/01/24 19:02:55 WARN RowBasedKeyValueBatch: Calling spill() on RowBasedKeyValueBatch. Will not spill but return 0.\n",
      "23/01/24 19:02:55 WARN RowBasedKeyValueBatch: Calling spill() on RowBasedKeyValueBatch. Will not spill but return 0.\n",
      "23/01/24 19:02:55 WARN RowBasedKeyValueBatch: Calling spill() on RowBasedKeyValueBatch. Will not spill but return 0.\n",
      "23/01/24 19:02:55 WARN RowBasedKeyValueBatch: Calling spill() on RowBasedKeyValueBatch. Will not spill but return 0.\n",
      "23/01/24 19:02:56 WARN RowBasedKeyValueBatch: Calling spill() on RowBasedKeyValueBatch. Will not spill but return 0.\n",
      "23/01/24 19:02:56 WARN RowBasedKeyValueBatch: Calling spill() on RowBasedKeyValueBatch. Will not spill but return 0.\n"
     ]
    },
    {
     "name": "stderr",
     "output_type": "stream",
     "text": [
      "[Stage 103:>                                                      (0 + 16) / 17]\r"
     ]
    },
    {
     "name": "stdout",
     "output_type": "stream",
     "text": [
      "23/01/24 19:02:56 WARN RowBasedKeyValueBatch: Calling spill() on RowBasedKeyValueBatch. Will not spill but return 0.\n",
      "23/01/24 19:02:56 WARN RowBasedKeyValueBatch: Calling spill() on RowBasedKeyValueBatch. Will not spill but return 0.\n",
      "23/01/24 19:02:56 WARN RowBasedKeyValueBatch: Calling spill() on RowBasedKeyValueBatch. Will not spill but return 0.\n",
      "23/01/24 19:02:56 WARN RowBasedKeyValueBatch: Calling spill() on RowBasedKeyValueBatch. Will not spill but return 0.\n",
      "23/01/24 19:02:56 WARN RowBasedKeyValueBatch: Calling spill() on RowBasedKeyValueBatch. Will not spill but return 0.\n",
      "23/01/24 19:02:56 WARN RowBasedKeyValueBatch: Calling spill() on RowBasedKeyValueBatch. Will not spill but return 0.\n",
      "23/01/24 19:02:56 WARN RowBasedKeyValueBatch: Calling spill() on RowBasedKeyValueBatch. Will not spill but return 0.\n",
      "23/01/24 19:02:56 WARN RowBasedKeyValueBatch: Calling spill() on RowBasedKeyValueBatch. Will not spill but return 0.\n",
      "23/01/24 19:02:56 WARN RowBasedKeyValueBatch: Calling spill() on RowBasedKeyValueBatch. Will not spill but return 0.\n",
      "23/01/24 19:02:56 WARN RowBasedKeyValueBatch: Calling spill() on RowBasedKeyValueBatch. Will not spill but return 0.\n",
      "23/01/24 19:02:56 WARN RowBasedKeyValueBatch: Calling spill() on RowBasedKeyValueBatch. Will not spill but return 0.\n",
      "23/01/24 19:02:56 WARN RowBasedKeyValueBatch: Calling spill() on RowBasedKeyValueBatch. Will not spill but return 0.\n",
      "23/01/24 19:02:56 WARN RowBasedKeyValueBatch: Calling spill() on RowBasedKeyValueBatch. Will not spill but return 0.\n",
      "23/01/24 19:02:56 WARN RowBasedKeyValueBatch: Calling spill() on RowBasedKeyValueBatch. Will not spill but return 0.\n",
      "23/01/24 19:02:56 WARN RowBasedKeyValueBatch: Calling spill() on RowBasedKeyValueBatch. Will not spill but return 0.\n",
      "23/01/24 19:02:56 WARN RowBasedKeyValueBatch: Calling spill() on RowBasedKeyValueBatch. Will not spill but return 0.\n",
      "23/01/24 19:02:56 WARN RowBasedKeyValueBatch: Calling spill() on RowBasedKeyValueBatch. Will not spill but return 0.\n",
      "23/01/24 19:02:56 WARN RowBasedKeyValueBatch: Calling spill() on RowBasedKeyValueBatch. Will not spill but return 0.\n",
      "23/01/24 19:02:56 WARN RowBasedKeyValueBatch: Calling spill() on RowBasedKeyValueBatch. Will not spill but return 0.\n",
      "23/01/24 19:02:56 WARN RowBasedKeyValueBatch: Calling spill() on RowBasedKeyValueBatch. Will not spill but return 0.\n",
      "23/01/24 19:02:56 WARN RowBasedKeyValueBatch: Calling spill() on RowBasedKeyValueBatch. Will not spill but return 0.\n",
      "23/01/24 19:02:56 WARN RowBasedKeyValueBatch: Calling spill() on RowBasedKeyValueBatch. Will not spill but return 0.\n",
      "23/01/24 19:02:56 WARN RowBasedKeyValueBatch: Calling spill() on RowBasedKeyValueBatch. Will not spill but return 0.\n",
      "23/01/24 19:02:56 WARN RowBasedKeyValueBatch: Calling spill() on RowBasedKeyValueBatch. Will not spill but return 0.\n",
      "23/01/24 19:02:56 WARN RowBasedKeyValueBatch: Calling spill() on RowBasedKeyValueBatch. Will not spill but return 0.\n",
      "23/01/24 19:02:56 WARN RowBasedKeyValueBatch: Calling spill() on RowBasedKeyValueBatch. Will not spill but return 0.\n",
      "23/01/24 19:02:56 WARN RowBasedKeyValueBatch: Calling spill() on RowBasedKeyValueBatch. Will not spill but return 0.\n",
      "23/01/24 19:02:56 WARN RowBasedKeyValueBatch: Calling spill() on RowBasedKeyValueBatch. Will not spill but return 0.\n",
      "23/01/24 19:02:56 WARN RowBasedKeyValueBatch: Calling spill() on RowBasedKeyValueBatch. Will not spill but return 0.\n",
      "23/01/24 19:02:56 WARN RowBasedKeyValueBatch: Calling spill() on RowBasedKeyValueBatch. Will not spill but return 0.\n",
      "23/01/24 19:02:56 WARN RowBasedKeyValueBatch: Calling spill() on RowBasedKeyValueBatch. Will not spill but return 0.\n",
      "23/01/24 19:02:56 WARN RowBasedKeyValueBatch: Calling spill() on RowBasedKeyValueBatch. Will not spill but return 0.\n",
      "23/01/24 19:02:56 WARN RowBasedKeyValueBatch: Calling spill() on RowBasedKeyValueBatch. Will not spill but return 0.\n",
      "23/01/24 19:02:56 WARN RowBasedKeyValueBatch: Calling spill() on RowBasedKeyValueBatch. Will not spill but return 0.\n",
      "23/01/24 19:02:56 WARN RowBasedKeyValueBatch: Calling spill() on RowBasedKeyValueBatch. Will not spill but return 0.\n",
      "23/01/24 19:02:56 WARN RowBasedKeyValueBatch: Calling spill() on RowBasedKeyValueBatch. Will not spill but return 0.\n",
      "23/01/24 19:02:56 WARN RowBasedKeyValueBatch: Calling spill() on RowBasedKeyValueBatch. Will not spill but return 0.\n",
      "23/01/24 19:02:56 WARN RowBasedKeyValueBatch: Calling spill() on RowBasedKeyValueBatch. Will not spill but return 0.\n",
      "23/01/24 19:02:56 WARN RowBasedKeyValueBatch: Calling spill() on RowBasedKeyValueBatch. Will not spill but return 0.\n",
      "23/01/24 19:02:56 WARN RowBasedKeyValueBatch: Calling spill() on RowBasedKeyValueBatch. Will not spill but return 0.\n",
      "23/01/24 19:02:56 WARN RowBasedKeyValueBatch: Calling spill() on RowBasedKeyValueBatch. Will not spill but return 0.\n",
      "23/01/24 19:02:56 WARN RowBasedKeyValueBatch: Calling spill() on RowBasedKeyValueBatch. Will not spill but return 0.\n",
      "23/01/24 19:02:56 WARN RowBasedKeyValueBatch: Calling spill() on RowBasedKeyValueBatch. Will not spill but return 0.\n",
      "23/01/24 19:02:56 WARN RowBasedKeyValueBatch: Calling spill() on RowBasedKeyValueBatch. Will not spill but return 0.\n",
      "23/01/24 19:02:56 WARN RowBasedKeyValueBatch: Calling spill() on RowBasedKeyValueBatch. Will not spill but return 0.\n",
      "23/01/24 19:02:56 WARN RowBasedKeyValueBatch: Calling spill() on RowBasedKeyValueBatch. Will not spill but return 0.\n",
      "23/01/24 19:02:56 WARN RowBasedKeyValueBatch: Calling spill() on RowBasedKeyValueBatch. Will not spill but return 0.\n",
      "23/01/24 19:02:56 WARN RowBasedKeyValueBatch: Calling spill() on RowBasedKeyValueBatch. Will not spill but return 0.\n",
      "23/01/24 19:02:56 WARN RowBasedKeyValueBatch: Calling spill() on RowBasedKeyValueBatch. Will not spill but return 0.\n",
      "23/01/24 19:02:56 WARN RowBasedKeyValueBatch: Calling spill() on RowBasedKeyValueBatch. Will not spill but return 0.\n",
      "23/01/24 19:02:56 WARN RowBasedKeyValueBatch: Calling spill() on RowBasedKeyValueBatch. Will not spill but return 0.\n",
      "23/01/24 19:02:56 WARN RowBasedKeyValueBatch: Calling spill() on RowBasedKeyValueBatch. Will not spill but return 0.\n",
      "23/01/24 19:02:56 WARN RowBasedKeyValueBatch: Calling spill() on RowBasedKeyValueBatch. Will not spill but return 0.\n",
      "23/01/24 19:02:56 WARN RowBasedKeyValueBatch: Calling spill() on RowBasedKeyValueBatch. Will not spill but return 0.\n",
      "23/01/24 19:02:56 WARN RowBasedKeyValueBatch: Calling spill() on RowBasedKeyValueBatch. Will not spill but return 0.\n",
      "23/01/24 19:02:56 WARN RowBasedKeyValueBatch: Calling spill() on RowBasedKeyValueBatch. Will not spill but return 0.\n",
      "23/01/24 19:02:56 WARN RowBasedKeyValueBatch: Calling spill() on RowBasedKeyValueBatch. Will not spill but return 0.\n",
      "23/01/24 19:02:56 WARN RowBasedKeyValueBatch: Calling spill() on RowBasedKeyValueBatch. Will not spill but return 0.\n",
      "23/01/24 19:02:56 WARN RowBasedKeyValueBatch: Calling spill() on RowBasedKeyValueBatch. Will not spill but return 0.\n",
      "23/01/24 19:02:56 WARN RowBasedKeyValueBatch: Calling spill() on RowBasedKeyValueBatch. Will not spill but return 0.\n",
      "23/01/24 19:02:56 WARN RowBasedKeyValueBatch: Calling spill() on RowBasedKeyValueBatch. Will not spill but return 0.\n",
      "23/01/24 19:02:56 WARN RowBasedKeyValueBatch: Calling spill() on RowBasedKeyValueBatch. Will not spill but return 0.\n",
      "23/01/24 19:02:56 WARN RowBasedKeyValueBatch: Calling spill() on RowBasedKeyValueBatch. Will not spill but return 0.\n",
      "23/01/24 19:02:57 WARN RowBasedKeyValueBatch: Calling spill() on RowBasedKeyValueBatch. Will not spill but return 0.\n",
      "23/01/24 19:02:57 WARN RowBasedKeyValueBatch: Calling spill() on RowBasedKeyValueBatch. Will not spill but return 0.\n",
      "23/01/24 19:02:57 WARN RowBasedKeyValueBatch: Calling spill() on RowBasedKeyValueBatch. Will not spill but return 0.\n",
      "23/01/24 19:02:57 WARN RowBasedKeyValueBatch: Calling spill() on RowBasedKeyValueBatch. Will not spill but return 0.\n",
      "23/01/24 19:02:57 WARN RowBasedKeyValueBatch: Calling spill() on RowBasedKeyValueBatch. Will not spill but return 0.\n",
      "23/01/24 19:02:57 WARN RowBasedKeyValueBatch: Calling spill() on RowBasedKeyValueBatch. Will not spill but return 0.\n",
      "23/01/24 19:02:57 WARN RowBasedKeyValueBatch: Calling spill() on RowBasedKeyValueBatch. Will not spill but return 0.\n",
      "23/01/24 19:02:57 WARN RowBasedKeyValueBatch: Calling spill() on RowBasedKeyValueBatch. Will not spill but return 0.\n",
      "23/01/24 19:02:57 WARN RowBasedKeyValueBatch: Calling spill() on RowBasedKeyValueBatch. Will not spill but return 0.\n",
      "23/01/24 19:02:57 WARN RowBasedKeyValueBatch: Calling spill() on RowBasedKeyValueBatch. Will not spill but return 0.\n",
      "23/01/24 19:02:57 WARN RowBasedKeyValueBatch: Calling spill() on RowBasedKeyValueBatch. Will not spill but return 0.\n",
      "23/01/24 19:02:57 WARN RowBasedKeyValueBatch: Calling spill() on RowBasedKeyValueBatch. Will not spill but return 0.\n",
      "23/01/24 19:02:57 WARN RowBasedKeyValueBatch: Calling spill() on RowBasedKeyValueBatch. Will not spill but return 0.\n",
      "23/01/24 19:02:57 WARN RowBasedKeyValueBatch: Calling spill() on RowBasedKeyValueBatch. Will not spill but return 0.\n",
      "23/01/24 19:02:57 WARN RowBasedKeyValueBatch: Calling spill() on RowBasedKeyValueBatch. Will not spill but return 0.\n",
      "23/01/24 19:02:57 WARN RowBasedKeyValueBatch: Calling spill() on RowBasedKeyValueBatch. Will not spill but return 0.\n",
      "23/01/24 19:02:57 WARN RowBasedKeyValueBatch: Calling spill() on RowBasedKeyValueBatch. Will not spill but return 0.\n",
      "23/01/24 19:02:57 WARN RowBasedKeyValueBatch: Calling spill() on RowBasedKeyValueBatch. Will not spill but return 0.\n",
      "23/01/24 19:02:57 WARN RowBasedKeyValueBatch: Calling spill() on RowBasedKeyValueBatch. Will not spill but return 0.\n",
      "23/01/24 19:02:57 WARN RowBasedKeyValueBatch: Calling spill() on RowBasedKeyValueBatch. Will not spill but return 0.\n",
      "23/01/24 19:02:57 WARN RowBasedKeyValueBatch: Calling spill() on RowBasedKeyValueBatch. Will not spill but return 0.\n",
      "23/01/24 19:02:57 WARN RowBasedKeyValueBatch: Calling spill() on RowBasedKeyValueBatch. Will not spill but return 0.\n",
      "23/01/24 19:02:57 WARN RowBasedKeyValueBatch: Calling spill() on RowBasedKeyValueBatch. Will not spill but return 0.\n",
      "23/01/24 19:02:57 WARN RowBasedKeyValueBatch: Calling spill() on RowBasedKeyValueBatch. Will not spill but return 0.\n",
      "23/01/24 19:02:57 WARN RowBasedKeyValueBatch: Calling spill() on RowBasedKeyValueBatch. Will not spill but return 0.\n",
      "23/01/24 19:02:57 WARN RowBasedKeyValueBatch: Calling spill() on RowBasedKeyValueBatch. Will not spill but return 0.\n",
      "23/01/24 19:02:57 WARN RowBasedKeyValueBatch: Calling spill() on RowBasedKeyValueBatch. Will not spill but return 0.\n",
      "23/01/24 19:02:57 WARN RowBasedKeyValueBatch: Calling spill() on RowBasedKeyValueBatch. Will not spill but return 0.\n",
      "23/01/24 19:02:57 WARN RowBasedKeyValueBatch: Calling spill() on RowBasedKeyValueBatch. Will not spill but return 0.\n",
      "23/01/24 19:02:57 WARN RowBasedKeyValueBatch: Calling spill() on RowBasedKeyValueBatch. Will not spill but return 0.\n",
      "23/01/24 19:02:57 WARN RowBasedKeyValueBatch: Calling spill() on RowBasedKeyValueBatch. Will not spill but return 0.\n",
      "23/01/24 19:02:57 WARN RowBasedKeyValueBatch: Calling spill() on RowBasedKeyValueBatch. Will not spill but return 0.\n",
      "23/01/24 19:02:57 WARN RowBasedKeyValueBatch: Calling spill() on RowBasedKeyValueBatch. Will not spill but return 0.\n"
     ]
    },
    {
     "name": "stderr",
     "output_type": "stream",
     "text": [
      "[Stage 103:===================================================>   (16 + 1) / 17]\r"
     ]
    },
    {
     "name": "stdout",
     "output_type": "stream",
     "text": [
      "+----------------------------+------+-------+\n",
      "|crimeType                   |cases |percent|\n",
      "+----------------------------+------+-------+\n",
      "|Violence and sexual offences|715969|41.13  |\n",
      "|Public order                |178948|10.28  |\n",
      "|Criminal damage and arson   |166910|9.59   |\n",
      "|Other theft                 |162290|9.32   |\n",
      "|Vehicle crime               |133448|7.67   |\n",
      "|Shoplifting                 |105326|6.05   |\n",
      "|Burglary                    |86949 |4.99   |\n",
      "|Drugs                       |56203 |3.23   |\n",
      "|Other crime                 |36624 |2.1    |\n",
      "|Theft from the person       |31983 |1.84   |\n",
      "|Bicycle theft               |26524 |1.52   |\n",
      "|Robbery                     |22655 |1.3    |\n",
      "|Possession of weapons       |17053 |0.98   |\n",
      "+----------------------------+------+-------+\n",
      "\n"
     ]
    },
    {
     "name": "stderr",
     "output_type": "stream",
     "text": [
      "                                                                                \r"
     ]
    }
   ],
   "source": [
    "def agg_crime_types_count(df: pysql.DataFrame):\n",
    "    total = df.count()\n",
    "    return (df.groupBy('crimeType').agg(F.count('crimeType').alias('cases'))\n",
    "             .withColumn('percent', F.round(100.0 * F.col('cases')/total, 2))\n",
    "             .orderBy(F.desc('percent'))\n",
    "             )\n",
    "\n",
    "check_df = agg_crime_types_count(df_all)\n",
    "assert 100.0 == round(check_df.select(F.sum(\"percent\").alias('prc')).collect()[0]['prc'], 0)\n",
    "\n",
    "check_df.show(truncate=False)"
   ]
  },
  {
   "cell_type": "code",
   "execution_count": 22,
   "metadata": {},
   "outputs": [
    {
     "name": "stderr",
     "output_type": "stream",
     "text": [
      "[Stage 117:===================================================>   (15 + 1) / 16]\r"
     ]
    },
    {
     "name": "stdout",
     "output_type": "stream",
     "text": [
      "23/01/24 19:03:05 WARN RowBasedKeyValueBatch: Calling spill() on RowBasedKeyValueBatch. Will not spill but return 0.\n",
      "23/01/24 19:03:05 WARN RowBasedKeyValueBatch: Calling spill() on RowBasedKeyValueBatch. Will not spill but return 0.\n",
      "23/01/24 19:03:05 WARN RowBasedKeyValueBatch: Calling spill() on RowBasedKeyValueBatch. Will not spill but return 0.\n",
      "23/01/24 19:03:05 WARN RowBasedKeyValueBatch: Calling spill() on RowBasedKeyValueBatch. Will not spill but return 0.\n",
      "23/01/24 19:03:05 WARN RowBasedKeyValueBatch: Calling spill() on RowBasedKeyValueBatch. Will not spill but return 0.\n",
      "23/01/24 19:03:05 WARN RowBasedKeyValueBatch: Calling spill() on RowBasedKeyValueBatch. Will not spill but return 0.\n",
      "23/01/24 19:03:05 WARN RowBasedKeyValueBatch: Calling spill() on RowBasedKeyValueBatch. Will not spill but return 0.\n",
      "23/01/24 19:03:05 WARN RowBasedKeyValueBatch: Calling spill() on RowBasedKeyValueBatch. Will not spill but return 0.\n",
      "23/01/24 19:03:05 WARN RowBasedKeyValueBatch: Calling spill() on RowBasedKeyValueBatch. Will not spill but return 0.\n",
      "23/01/24 19:03:05 WARN RowBasedKeyValueBatch: Calling spill() on RowBasedKeyValueBatch. Will not spill but return 0.\n",
      "23/01/24 19:03:05 WARN RowBasedKeyValueBatch: Calling spill() on RowBasedKeyValueBatch. Will not spill but return 0.\n",
      "23/01/24 19:03:05 WARN RowBasedKeyValueBatch: Calling spill() on RowBasedKeyValueBatch. Will not spill but return 0.\n",
      "23/01/24 19:03:05 WARN RowBasedKeyValueBatch: Calling spill() on RowBasedKeyValueBatch. Will not spill but return 0.\n",
      "23/01/24 19:03:05 WARN RowBasedKeyValueBatch: Calling spill() on RowBasedKeyValueBatch. Will not spill but return 0.\n",
      "23/01/24 19:03:05 WARN RowBasedKeyValueBatch: Calling spill() on RowBasedKeyValueBatch. Will not spill but return 0.\n",
      "23/01/24 19:03:05 WARN RowBasedKeyValueBatch: Calling spill() on RowBasedKeyValueBatch. Will not spill but return 0.\n"
     ]
    },
    {
     "name": "stderr",
     "output_type": "stream",
     "text": [
      "[Stage 121:>                                                      (0 + 16) / 17]\r"
     ]
    },
    {
     "name": "stdout",
     "output_type": "stream",
     "text": [
      "23/01/24 19:03:06 WARN RowBasedKeyValueBatch: Calling spill() on RowBasedKeyValueBatch. Will not spill but return 0.\n",
      "23/01/24 19:03:06 WARN RowBasedKeyValueBatch: Calling spill() on RowBasedKeyValueBatch. Will not spill but return 0.\n",
      "23/01/24 19:03:06 WARN RowBasedKeyValueBatch: Calling spill() on RowBasedKeyValueBatch. Will not spill but return 0.\n",
      "23/01/24 19:03:06 WARN RowBasedKeyValueBatch: Calling spill() on RowBasedKeyValueBatch. Will not spill but return 0.\n",
      "23/01/24 19:03:06 WARN RowBasedKeyValueBatch: Calling spill() on RowBasedKeyValueBatch. Will not spill but return 0.\n",
      "23/01/24 19:03:06 WARN RowBasedKeyValueBatch: Calling spill() on RowBasedKeyValueBatch. Will not spill but return 0.\n",
      "23/01/24 19:03:06 WARN RowBasedKeyValueBatch: Calling spill() on RowBasedKeyValueBatch. Will not spill but return 0.\n",
      "23/01/24 19:03:06 WARN RowBasedKeyValueBatch: Calling spill() on RowBasedKeyValueBatch. Will not spill but return 0.\n",
      "23/01/24 19:03:06 WARN RowBasedKeyValueBatch: Calling spill() on RowBasedKeyValueBatch. Will not spill but return 0.\n",
      "23/01/24 19:03:06 WARN RowBasedKeyValueBatch: Calling spill() on RowBasedKeyValueBatch. Will not spill but return 0.\n",
      "23/01/24 19:03:06 WARN RowBasedKeyValueBatch: Calling spill() on RowBasedKeyValueBatch. Will not spill but return 0.\n",
      "23/01/24 19:03:06 WARN RowBasedKeyValueBatch: Calling spill() on RowBasedKeyValueBatch. Will not spill but return 0.\n",
      "23/01/24 19:03:06 WARN RowBasedKeyValueBatch: Calling spill() on RowBasedKeyValueBatch. Will not spill but return 0.\n",
      "23/01/24 19:03:06 WARN RowBasedKeyValueBatch: Calling spill() on RowBasedKeyValueBatch. Will not spill but return 0.\n",
      "23/01/24 19:03:06 WARN RowBasedKeyValueBatch: Calling spill() on RowBasedKeyValueBatch. Will not spill but return 0.\n",
      "23/01/24 19:03:06 WARN RowBasedKeyValueBatch: Calling spill() on RowBasedKeyValueBatch. Will not spill but return 0.\n",
      "23/01/24 19:03:06 WARN RowBasedKeyValueBatch: Calling spill() on RowBasedKeyValueBatch. Will not spill but return 0.\n",
      "23/01/24 19:03:06 WARN RowBasedKeyValueBatch: Calling spill() on RowBasedKeyValueBatch. Will not spill but return 0.\n",
      "23/01/24 19:03:06 WARN RowBasedKeyValueBatch: Calling spill() on RowBasedKeyValueBatch. Will not spill but return 0.\n",
      "23/01/24 19:03:06 WARN RowBasedKeyValueBatch: Calling spill() on RowBasedKeyValueBatch. Will not spill but return 0.\n",
      "23/01/24 19:03:06 WARN RowBasedKeyValueBatch: Calling spill() on RowBasedKeyValueBatch. Will not spill but return 0.\n",
      "23/01/24 19:03:06 WARN RowBasedKeyValueBatch: Calling spill() on RowBasedKeyValueBatch. Will not spill but return 0.\n",
      "23/01/24 19:03:06 WARN RowBasedKeyValueBatch: Calling spill() on RowBasedKeyValueBatch. Will not spill but return 0.\n",
      "23/01/24 19:03:06 WARN RowBasedKeyValueBatch: Calling spill() on RowBasedKeyValueBatch. Will not spill but return 0.\n",
      "23/01/24 19:03:06 WARN RowBasedKeyValueBatch: Calling spill() on RowBasedKeyValueBatch. Will not spill but return 0.\n",
      "23/01/24 19:03:06 WARN RowBasedKeyValueBatch: Calling spill() on RowBasedKeyValueBatch. Will not spill but return 0.\n",
      "23/01/24 19:03:06 WARN RowBasedKeyValueBatch: Calling spill() on RowBasedKeyValueBatch. Will not spill but return 0.\n",
      "23/01/24 19:03:06 WARN RowBasedKeyValueBatch: Calling spill() on RowBasedKeyValueBatch. Will not spill but return 0.\n",
      "23/01/24 19:03:06 WARN RowBasedKeyValueBatch: Calling spill() on RowBasedKeyValueBatch. Will not spill but return 0.\n",
      "23/01/24 19:03:06 WARN RowBasedKeyValueBatch: Calling spill() on RowBasedKeyValueBatch. Will not spill but return 0.\n",
      "23/01/24 19:03:06 WARN RowBasedKeyValueBatch: Calling spill() on RowBasedKeyValueBatch. Will not spill but return 0.\n",
      "23/01/24 19:03:06 WARN RowBasedKeyValueBatch: Calling spill() on RowBasedKeyValueBatch. Will not spill but return 0.\n",
      "23/01/24 19:03:06 WARN RowBasedKeyValueBatch: Calling spill() on RowBasedKeyValueBatch. Will not spill but return 0.\n",
      "23/01/24 19:03:06 WARN RowBasedKeyValueBatch: Calling spill() on RowBasedKeyValueBatch. Will not spill but return 0.\n",
      "23/01/24 19:03:06 WARN RowBasedKeyValueBatch: Calling spill() on RowBasedKeyValueBatch. Will not spill but return 0.\n",
      "23/01/24 19:03:06 WARN RowBasedKeyValueBatch: Calling spill() on RowBasedKeyValueBatch. Will not spill but return 0.\n",
      "23/01/24 19:03:06 WARN RowBasedKeyValueBatch: Calling spill() on RowBasedKeyValueBatch. Will not spill but return 0.\n",
      "23/01/24 19:03:06 WARN RowBasedKeyValueBatch: Calling spill() on RowBasedKeyValueBatch. Will not spill but return 0.\n",
      "23/01/24 19:03:06 WARN RowBasedKeyValueBatch: Calling spill() on RowBasedKeyValueBatch. Will not spill but return 0.\n",
      "23/01/24 19:03:06 WARN RowBasedKeyValueBatch: Calling spill() on RowBasedKeyValueBatch. Will not spill but return 0.\n",
      "23/01/24 19:03:06 WARN RowBasedKeyValueBatch: Calling spill() on RowBasedKeyValueBatch. Will not spill but return 0.\n",
      "23/01/24 19:03:06 WARN RowBasedKeyValueBatch: Calling spill() on RowBasedKeyValueBatch. Will not spill but return 0.\n",
      "23/01/24 19:03:06 WARN RowBasedKeyValueBatch: Calling spill() on RowBasedKeyValueBatch. Will not spill but return 0.\n",
      "23/01/24 19:03:06 WARN RowBasedKeyValueBatch: Calling spill() on RowBasedKeyValueBatch. Will not spill but return 0.\n",
      "23/01/24 19:03:06 WARN RowBasedKeyValueBatch: Calling spill() on RowBasedKeyValueBatch. Will not spill but return 0.\n",
      "23/01/24 19:03:06 WARN RowBasedKeyValueBatch: Calling spill() on RowBasedKeyValueBatch. Will not spill but return 0.\n",
      "23/01/24 19:03:06 WARN RowBasedKeyValueBatch: Calling spill() on RowBasedKeyValueBatch. Will not spill but return 0.\n",
      "23/01/24 19:03:06 WARN RowBasedKeyValueBatch: Calling spill() on RowBasedKeyValueBatch. Will not spill but return 0.\n",
      "23/01/24 19:03:06 WARN RowBasedKeyValueBatch: Calling spill() on RowBasedKeyValueBatch. Will not spill but return 0.\n",
      "23/01/24 19:03:06 WARN RowBasedKeyValueBatch: Calling spill() on RowBasedKeyValueBatch. Will not spill but return 0.\n",
      "23/01/24 19:03:06 WARN RowBasedKeyValueBatch: Calling spill() on RowBasedKeyValueBatch. Will not spill but return 0.\n",
      "23/01/24 19:03:06 WARN RowBasedKeyValueBatch: Calling spill() on RowBasedKeyValueBatch. Will not spill but return 0.\n",
      "23/01/24 19:03:06 WARN RowBasedKeyValueBatch: Calling spill() on RowBasedKeyValueBatch. Will not spill but return 0.\n",
      "23/01/24 19:03:06 WARN RowBasedKeyValueBatch: Calling spill() on RowBasedKeyValueBatch. Will not spill but return 0.\n",
      "23/01/24 19:03:06 WARN RowBasedKeyValueBatch: Calling spill() on RowBasedKeyValueBatch. Will not spill but return 0.\n",
      "23/01/24 19:03:06 WARN RowBasedKeyValueBatch: Calling spill() on RowBasedKeyValueBatch. Will not spill but return 0.\n",
      "23/01/24 19:03:06 WARN RowBasedKeyValueBatch: Calling spill() on RowBasedKeyValueBatch. Will not spill but return 0.\n",
      "23/01/24 19:03:06 WARN RowBasedKeyValueBatch: Calling spill() on RowBasedKeyValueBatch. Will not spill but return 0.\n",
      "23/01/24 19:03:06 WARN RowBasedKeyValueBatch: Calling spill() on RowBasedKeyValueBatch. Will not spill but return 0.\n",
      "23/01/24 19:03:06 WARN RowBasedKeyValueBatch: Calling spill() on RowBasedKeyValueBatch. Will not spill but return 0.\n",
      "23/01/24 19:03:06 WARN RowBasedKeyValueBatch: Calling spill() on RowBasedKeyValueBatch. Will not spill but return 0.\n",
      "23/01/24 19:03:06 WARN RowBasedKeyValueBatch: Calling spill() on RowBasedKeyValueBatch. Will not spill but return 0.\n",
      "23/01/24 19:03:06 WARN RowBasedKeyValueBatch: Calling spill() on RowBasedKeyValueBatch. Will not spill but return 0.\n",
      "23/01/24 19:03:06 WARN RowBasedKeyValueBatch: Calling spill() on RowBasedKeyValueBatch. Will not spill but return 0.\n",
      "23/01/24 19:03:07 WARN RowBasedKeyValueBatch: Calling spill() on RowBasedKeyValueBatch. Will not spill but return 0.\n",
      "23/01/24 19:03:07 WARN RowBasedKeyValueBatch: Calling spill() on RowBasedKeyValueBatch. Will not spill but return 0.\n",
      "23/01/24 19:03:08 WARN RowBasedKeyValueBatch: Calling spill() on RowBasedKeyValueBatch. Will not spill but return 0.\n",
      "23/01/24 19:03:08 WARN RowBasedKeyValueBatch: Calling spill() on RowBasedKeyValueBatch. Will not spill but return 0.\n",
      "23/01/24 19:03:08 WARN RowBasedKeyValueBatch: Calling spill() on RowBasedKeyValueBatch. Will not spill but return 0.\n",
      "23/01/24 19:03:08 WARN RowBasedKeyValueBatch: Calling spill() on RowBasedKeyValueBatch. Will not spill but return 0.\n",
      "23/01/24 19:03:08 WARN RowBasedKeyValueBatch: Calling spill() on RowBasedKeyValueBatch. Will not spill but return 0.\n",
      "23/01/24 19:03:08 WARN RowBasedKeyValueBatch: Calling spill() on RowBasedKeyValueBatch. Will not spill but return 0.\n",
      "23/01/24 19:03:08 WARN RowBasedKeyValueBatch: Calling spill() on RowBasedKeyValueBatch. Will not spill but return 0.\n",
      "23/01/24 19:03:08 WARN RowBasedKeyValueBatch: Calling spill() on RowBasedKeyValueBatch. Will not spill but return 0.\n",
      "23/01/24 19:03:08 WARN RowBasedKeyValueBatch: Calling spill() on RowBasedKeyValueBatch. Will not spill but return 0.\n",
      "23/01/24 19:03:08 WARN RowBasedKeyValueBatch: Calling spill() on RowBasedKeyValueBatch. Will not spill but return 0.\n",
      "23/01/24 19:03:08 WARN RowBasedKeyValueBatch: Calling spill() on RowBasedKeyValueBatch. Will not spill but return 0.\n",
      "23/01/24 19:03:08 WARN RowBasedKeyValueBatch: Calling spill() on RowBasedKeyValueBatch. Will not spill but return 0.\n",
      "23/01/24 19:03:08 WARN RowBasedKeyValueBatch: Calling spill() on RowBasedKeyValueBatch. Will not spill but return 0.\n",
      "23/01/24 19:03:08 WARN RowBasedKeyValueBatch: Calling spill() on RowBasedKeyValueBatch. Will not spill but return 0.\n",
      "23/01/24 19:03:08 WARN RowBasedKeyValueBatch: Calling spill() on RowBasedKeyValueBatch. Will not spill but return 0.\n",
      "23/01/24 19:03:08 WARN RowBasedKeyValueBatch: Calling spill() on RowBasedKeyValueBatch. Will not spill but return 0.\n",
      "23/01/24 19:03:08 WARN RowBasedKeyValueBatch: Calling spill() on RowBasedKeyValueBatch. Will not spill but return 0.\n",
      "23/01/24 19:03:08 WARN RowBasedKeyValueBatch: Calling spill() on RowBasedKeyValueBatch. Will not spill but return 0.\n",
      "23/01/24 19:03:08 WARN RowBasedKeyValueBatch: Calling spill() on RowBasedKeyValueBatch. Will not spill but return 0.\n",
      "23/01/24 19:03:08 WARN RowBasedKeyValueBatch: Calling spill() on RowBasedKeyValueBatch. Will not spill but return 0.\n",
      "23/01/24 19:03:08 WARN RowBasedKeyValueBatch: Calling spill() on RowBasedKeyValueBatch. Will not spill but return 0.\n",
      "23/01/24 19:03:08 WARN RowBasedKeyValueBatch: Calling spill() on RowBasedKeyValueBatch. Will not spill but return 0.\n",
      "23/01/24 19:03:08 WARN RowBasedKeyValueBatch: Calling spill() on RowBasedKeyValueBatch. Will not spill but return 0.\n",
      "23/01/24 19:03:08 WARN RowBasedKeyValueBatch: Calling spill() on RowBasedKeyValueBatch. Will not spill but return 0.\n",
      "23/01/24 19:03:08 WARN RowBasedKeyValueBatch: Calling spill() on RowBasedKeyValueBatch. Will not spill but return 0.\n",
      "23/01/24 19:03:08 WARN RowBasedKeyValueBatch: Calling spill() on RowBasedKeyValueBatch. Will not spill but return 0.\n",
      "23/01/24 19:03:08 WARN RowBasedKeyValueBatch: Calling spill() on RowBasedKeyValueBatch. Will not spill but return 0.\n",
      "23/01/24 19:03:08 WARN RowBasedKeyValueBatch: Calling spill() on RowBasedKeyValueBatch. Will not spill but return 0.\n",
      "23/01/24 19:03:08 WARN RowBasedKeyValueBatch: Calling spill() on RowBasedKeyValueBatch. Will not spill but return 0.\n",
      "23/01/24 19:03:08 WARN RowBasedKeyValueBatch: Calling spill() on RowBasedKeyValueBatch. Will not spill but return 0.\n"
     ]
    },
    {
     "name": "stderr",
     "output_type": "stream",
     "text": [
      "[Stage 141:===================================================>   (15 + 1) / 16]\r"
     ]
    },
    {
     "name": "stdout",
     "output_type": "stream",
     "text": [
      "23/01/24 19:03:12 WARN RowBasedKeyValueBatch: Calling spill() on RowBasedKeyValueBatch. Will not spill but return 0.\n",
      "23/01/24 19:03:12 WARN RowBasedKeyValueBatch: Calling spill() on RowBasedKeyValueBatch. Will not spill but return 0.\n",
      "23/01/24 19:03:12 WARN RowBasedKeyValueBatch: Calling spill() on RowBasedKeyValueBatch. Will not spill but return 0.\n",
      "23/01/24 19:03:12 WARN RowBasedKeyValueBatch: Calling spill() on RowBasedKeyValueBatch. Will not spill but return 0.\n",
      "23/01/24 19:03:12 WARN RowBasedKeyValueBatch: Calling spill() on RowBasedKeyValueBatch. Will not spill but return 0.\n",
      "23/01/24 19:03:12 WARN RowBasedKeyValueBatch: Calling spill() on RowBasedKeyValueBatch. Will not spill but return 0.\n",
      "23/01/24 19:03:12 WARN RowBasedKeyValueBatch: Calling spill() on RowBasedKeyValueBatch. Will not spill but return 0.\n",
      "23/01/24 19:03:12 WARN RowBasedKeyValueBatch: Calling spill() on RowBasedKeyValueBatch. Will not spill but return 0.\n",
      "23/01/24 19:03:12 WARN RowBasedKeyValueBatch: Calling spill() on RowBasedKeyValueBatch. Will not spill but return 0.\n",
      "23/01/24 19:03:12 WARN RowBasedKeyValueBatch: Calling spill() on RowBasedKeyValueBatch. Will not spill but return 0.\n",
      "23/01/24 19:03:12 WARN RowBasedKeyValueBatch: Calling spill() on RowBasedKeyValueBatch. Will not spill but return 0.\n",
      "23/01/24 19:03:12 WARN RowBasedKeyValueBatch: Calling spill() on RowBasedKeyValueBatch. Will not spill but return 0.\n",
      "23/01/24 19:03:12 WARN RowBasedKeyValueBatch: Calling spill() on RowBasedKeyValueBatch. Will not spill but return 0.\n",
      "23/01/24 19:03:12 WARN RowBasedKeyValueBatch: Calling spill() on RowBasedKeyValueBatch. Will not spill but return 0.\n",
      "23/01/24 19:03:12 WARN RowBasedKeyValueBatch: Calling spill() on RowBasedKeyValueBatch. Will not spill but return 0.\n",
      "23/01/24 19:03:12 WARN RowBasedKeyValueBatch: Calling spill() on RowBasedKeyValueBatch. Will not spill but return 0.\n"
     ]
    },
    {
     "name": "stderr",
     "output_type": "stream",
     "text": [
      "[Stage 145:>                                                      (0 + 16) / 17]\r"
     ]
    },
    {
     "name": "stdout",
     "output_type": "stream",
     "text": [
      "23/01/24 19:03:12 WARN RowBasedKeyValueBatch: Calling spill() on RowBasedKeyValueBatch. Will not spill but return 0.\n",
      "23/01/24 19:03:12 WARN RowBasedKeyValueBatch: Calling spill() on RowBasedKeyValueBatch. Will not spill but return 0.\n",
      "23/01/24 19:03:12 WARN RowBasedKeyValueBatch: Calling spill() on RowBasedKeyValueBatch. Will not spill but return 0.\n",
      "23/01/24 19:03:12 WARN RowBasedKeyValueBatch: Calling spill() on RowBasedKeyValueBatch. Will not spill but return 0.\n",
      "23/01/24 19:03:12 WARN RowBasedKeyValueBatch: Calling spill() on RowBasedKeyValueBatch. Will not spill but return 0.\n",
      "23/01/24 19:03:12 WARN RowBasedKeyValueBatch: Calling spill() on RowBasedKeyValueBatch. Will not spill but return 0.\n",
      "23/01/24 19:03:12 WARN RowBasedKeyValueBatch: Calling spill() on RowBasedKeyValueBatch. Will not spill but return 0.\n",
      "23/01/24 19:03:12 WARN RowBasedKeyValueBatch: Calling spill() on RowBasedKeyValueBatch. Will not spill but return 0.\n",
      "23/01/24 19:03:12 WARN RowBasedKeyValueBatch: Calling spill() on RowBasedKeyValueBatch. Will not spill but return 0.\n",
      "23/01/24 19:03:12 WARN RowBasedKeyValueBatch: Calling spill() on RowBasedKeyValueBatch. Will not spill but return 0.\n",
      "23/01/24 19:03:12 WARN RowBasedKeyValueBatch: Calling spill() on RowBasedKeyValueBatch. Will not spill but return 0.\n",
      "23/01/24 19:03:12 WARN RowBasedKeyValueBatch: Calling spill() on RowBasedKeyValueBatch. Will not spill but return 0.\n",
      "23/01/24 19:03:12 WARN RowBasedKeyValueBatch: Calling spill() on RowBasedKeyValueBatch. Will not spill but return 0.\n",
      "23/01/24 19:03:12 WARN RowBasedKeyValueBatch: Calling spill() on RowBasedKeyValueBatch. Will not spill but return 0.\n",
      "23/01/24 19:03:12 WARN RowBasedKeyValueBatch: Calling spill() on RowBasedKeyValueBatch. Will not spill but return 0.\n",
      "23/01/24 19:03:12 WARN RowBasedKeyValueBatch: Calling spill() on RowBasedKeyValueBatch. Will not spill but return 0.\n",
      "23/01/24 19:03:12 WARN RowBasedKeyValueBatch: Calling spill() on RowBasedKeyValueBatch. Will not spill but return 0.\n",
      "23/01/24 19:03:12 WARN RowBasedKeyValueBatch: Calling spill() on RowBasedKeyValueBatch. Will not spill but return 0.\n",
      "23/01/24 19:03:12 WARN RowBasedKeyValueBatch: Calling spill() on RowBasedKeyValueBatch. Will not spill but return 0.\n",
      "23/01/24 19:03:12 WARN RowBasedKeyValueBatch: Calling spill() on RowBasedKeyValueBatch. Will not spill but return 0.\n",
      "23/01/24 19:03:12 WARN RowBasedKeyValueBatch: Calling spill() on RowBasedKeyValueBatch. Will not spill but return 0.\n",
      "23/01/24 19:03:12 WARN RowBasedKeyValueBatch: Calling spill() on RowBasedKeyValueBatch. Will not spill but return 0.\n",
      "23/01/24 19:03:12 WARN RowBasedKeyValueBatch: Calling spill() on RowBasedKeyValueBatch. Will not spill but return 0.\n",
      "23/01/24 19:03:12 WARN RowBasedKeyValueBatch: Calling spill() on RowBasedKeyValueBatch. Will not spill but return 0.\n",
      "23/01/24 19:03:12 WARN RowBasedKeyValueBatch: Calling spill() on RowBasedKeyValueBatch. Will not spill but return 0.\n",
      "23/01/24 19:03:12 WARN RowBasedKeyValueBatch: Calling spill() on RowBasedKeyValueBatch. Will not spill but return 0.\n",
      "23/01/24 19:03:12 WARN RowBasedKeyValueBatch: Calling spill() on RowBasedKeyValueBatch. Will not spill but return 0.\n",
      "23/01/24 19:03:12 WARN RowBasedKeyValueBatch: Calling spill() on RowBasedKeyValueBatch. Will not spill but return 0.\n",
      "23/01/24 19:03:12 WARN RowBasedKeyValueBatch: Calling spill() on RowBasedKeyValueBatch. Will not spill but return 0.\n",
      "23/01/24 19:03:12 WARN RowBasedKeyValueBatch: Calling spill() on RowBasedKeyValueBatch. Will not spill but return 0.\n",
      "23/01/24 19:03:12 WARN RowBasedKeyValueBatch: Calling spill() on RowBasedKeyValueBatch. Will not spill but return 0.\n",
      "23/01/24 19:03:12 WARN RowBasedKeyValueBatch: Calling spill() on RowBasedKeyValueBatch. Will not spill but return 0.\n",
      "23/01/24 19:03:12 WARN RowBasedKeyValueBatch: Calling spill() on RowBasedKeyValueBatch. Will not spill but return 0.\n",
      "23/01/24 19:03:12 WARN RowBasedKeyValueBatch: Calling spill() on RowBasedKeyValueBatch. Will not spill but return 0.\n",
      "23/01/24 19:03:12 WARN RowBasedKeyValueBatch: Calling spill() on RowBasedKeyValueBatch. Will not spill but return 0.\n",
      "23/01/24 19:03:13 WARN RowBasedKeyValueBatch: Calling spill() on RowBasedKeyValueBatch. Will not spill but return 0.\n",
      "23/01/24 19:03:13 WARN RowBasedKeyValueBatch: Calling spill() on RowBasedKeyValueBatch. Will not spill but return 0.\n",
      "23/01/24 19:03:13 WARN RowBasedKeyValueBatch: Calling spill() on RowBasedKeyValueBatch. Will not spill but return 0.\n",
      "23/01/24 19:03:13 WARN RowBasedKeyValueBatch: Calling spill() on RowBasedKeyValueBatch. Will not spill but return 0.\n",
      "23/01/24 19:03:13 WARN RowBasedKeyValueBatch: Calling spill() on RowBasedKeyValueBatch. Will not spill but return 0.\n",
      "23/01/24 19:03:13 WARN RowBasedKeyValueBatch: Calling spill() on RowBasedKeyValueBatch. Will not spill but return 0.\n",
      "23/01/24 19:03:13 WARN RowBasedKeyValueBatch: Calling spill() on RowBasedKeyValueBatch. Will not spill but return 0.\n",
      "23/01/24 19:03:13 WARN RowBasedKeyValueBatch: Calling spill() on RowBasedKeyValueBatch. Will not spill but return 0.\n",
      "23/01/24 19:03:13 WARN RowBasedKeyValueBatch: Calling spill() on RowBasedKeyValueBatch. Will not spill but return 0.\n",
      "23/01/24 19:03:13 WARN RowBasedKeyValueBatch: Calling spill() on RowBasedKeyValueBatch. Will not spill but return 0.\n",
      "23/01/24 19:03:13 WARN RowBasedKeyValueBatch: Calling spill() on RowBasedKeyValueBatch. Will not spill but return 0.\n",
      "23/01/24 19:03:13 WARN RowBasedKeyValueBatch: Calling spill() on RowBasedKeyValueBatch. Will not spill but return 0.\n",
      "23/01/24 19:03:13 WARN RowBasedKeyValueBatch: Calling spill() on RowBasedKeyValueBatch. Will not spill but return 0.\n",
      "23/01/24 19:03:13 WARN RowBasedKeyValueBatch: Calling spill() on RowBasedKeyValueBatch. Will not spill but return 0.\n",
      "23/01/24 19:03:13 WARN RowBasedKeyValueBatch: Calling spill() on RowBasedKeyValueBatch. Will not spill but return 0.\n",
      "23/01/24 19:03:13 WARN RowBasedKeyValueBatch: Calling spill() on RowBasedKeyValueBatch. Will not spill but return 0.\n",
      "23/01/24 19:03:13 WARN RowBasedKeyValueBatch: Calling spill() on RowBasedKeyValueBatch. Will not spill but return 0.\n",
      "23/01/24 19:03:13 WARN RowBasedKeyValueBatch: Calling spill() on RowBasedKeyValueBatch. Will not spill but return 0.\n",
      "23/01/24 19:03:13 WARN RowBasedKeyValueBatch: Calling spill() on RowBasedKeyValueBatch. Will not spill but return 0.\n",
      "23/01/24 19:03:13 WARN RowBasedKeyValueBatch: Calling spill() on RowBasedKeyValueBatch. Will not spill but return 0.\n",
      "23/01/24 19:03:13 WARN RowBasedKeyValueBatch: Calling spill() on RowBasedKeyValueBatch. Will not spill but return 0.\n",
      "23/01/24 19:03:13 WARN RowBasedKeyValueBatch: Calling spill() on RowBasedKeyValueBatch. Will not spill but return 0.\n",
      "23/01/24 19:03:13 WARN RowBasedKeyValueBatch: Calling spill() on RowBasedKeyValueBatch. Will not spill but return 0.\n",
      "23/01/24 19:03:13 WARN RowBasedKeyValueBatch: Calling spill() on RowBasedKeyValueBatch. Will not spill but return 0.\n",
      "23/01/24 19:03:13 WARN RowBasedKeyValueBatch: Calling spill() on RowBasedKeyValueBatch. Will not spill but return 0.\n",
      "23/01/24 19:03:13 WARN RowBasedKeyValueBatch: Calling spill() on RowBasedKeyValueBatch. Will not spill but return 0.\n",
      "23/01/24 19:03:13 WARN RowBasedKeyValueBatch: Calling spill() on RowBasedKeyValueBatch. Will not spill but return 0.\n",
      "23/01/24 19:03:13 WARN RowBasedKeyValueBatch: Calling spill() on RowBasedKeyValueBatch. Will not spill but return 0.\n",
      "23/01/24 19:03:13 WARN RowBasedKeyValueBatch: Calling spill() on RowBasedKeyValueBatch. Will not spill but return 0.\n",
      "23/01/24 19:03:13 WARN RowBasedKeyValueBatch: Calling spill() on RowBasedKeyValueBatch. Will not spill but return 0.\n",
      "23/01/24 19:03:13 WARN RowBasedKeyValueBatch: Calling spill() on RowBasedKeyValueBatch. Will not spill but return 0.\n",
      "23/01/24 19:03:13 WARN RowBasedKeyValueBatch: Calling spill() on RowBasedKeyValueBatch. Will not spill but return 0.\n",
      "23/01/24 19:03:13 WARN RowBasedKeyValueBatch: Calling spill() on RowBasedKeyValueBatch. Will not spill but return 0.\n",
      "23/01/24 19:03:13 WARN RowBasedKeyValueBatch: Calling spill() on RowBasedKeyValueBatch. Will not spill but return 0.\n",
      "23/01/24 19:03:13 WARN RowBasedKeyValueBatch: Calling spill() on RowBasedKeyValueBatch. Will not spill but return 0.\n",
      "23/01/24 19:03:13 WARN RowBasedKeyValueBatch: Calling spill() on RowBasedKeyValueBatch. Will not spill but return 0.\n",
      "23/01/24 19:03:13 WARN RowBasedKeyValueBatch: Calling spill() on RowBasedKeyValueBatch. Will not spill but return 0.\n",
      "23/01/24 19:03:13 WARN RowBasedKeyValueBatch: Calling spill() on RowBasedKeyValueBatch. Will not spill but return 0.\n",
      "23/01/24 19:03:13 WARN RowBasedKeyValueBatch: Calling spill() on RowBasedKeyValueBatch. Will not spill but return 0.\n",
      "23/01/24 19:03:13 WARN RowBasedKeyValueBatch: Calling spill() on RowBasedKeyValueBatch. Will not spill but return 0.\n",
      "23/01/24 19:03:13 WARN RowBasedKeyValueBatch: Calling spill() on RowBasedKeyValueBatch. Will not spill but return 0.\n",
      "23/01/24 19:03:13 WARN RowBasedKeyValueBatch: Calling spill() on RowBasedKeyValueBatch. Will not spill but return 0.\n",
      "23/01/24 19:03:13 WARN RowBasedKeyValueBatch: Calling spill() on RowBasedKeyValueBatch. Will not spill but return 0.\n",
      "23/01/24 19:03:13 WARN RowBasedKeyValueBatch: Calling spill() on RowBasedKeyValueBatch. Will not spill but return 0.\n",
      "23/01/24 19:03:13 WARN RowBasedKeyValueBatch: Calling spill() on RowBasedKeyValueBatch. Will not spill but return 0.\n",
      "23/01/24 19:03:13 WARN RowBasedKeyValueBatch: Calling spill() on RowBasedKeyValueBatch. Will not spill but return 0.\n",
      "23/01/24 19:03:13 WARN RowBasedKeyValueBatch: Calling spill() on RowBasedKeyValueBatch. Will not spill but return 0.\n",
      "23/01/24 19:03:13 WARN RowBasedKeyValueBatch: Calling spill() on RowBasedKeyValueBatch. Will not spill but return 0.\n",
      "23/01/24 19:03:13 WARN RowBasedKeyValueBatch: Calling spill() on RowBasedKeyValueBatch. Will not spill but return 0.\n",
      "23/01/24 19:03:13 WARN RowBasedKeyValueBatch: Calling spill() on RowBasedKeyValueBatch. Will not spill but return 0.\n",
      "23/01/24 19:03:13 WARN RowBasedKeyValueBatch: Calling spill() on RowBasedKeyValueBatch. Will not spill but return 0.\n",
      "23/01/24 19:03:13 WARN RowBasedKeyValueBatch: Calling spill() on RowBasedKeyValueBatch. Will not spill but return 0.\n",
      "23/01/24 19:03:13 WARN RowBasedKeyValueBatch: Calling spill() on RowBasedKeyValueBatch. Will not spill but return 0.\n",
      "23/01/24 19:03:13 WARN RowBasedKeyValueBatch: Calling spill() on RowBasedKeyValueBatch. Will not spill but return 0.\n",
      "23/01/24 19:03:13 WARN RowBasedKeyValueBatch: Calling spill() on RowBasedKeyValueBatch. Will not spill but return 0.\n",
      "23/01/24 19:03:13 WARN RowBasedKeyValueBatch: Calling spill() on RowBasedKeyValueBatch. Will not spill but return 0.\n",
      "23/01/24 19:03:13 WARN RowBasedKeyValueBatch: Calling spill() on RowBasedKeyValueBatch. Will not spill but return 0.\n",
      "23/01/24 19:03:13 WARN RowBasedKeyValueBatch: Calling spill() on RowBasedKeyValueBatch. Will not spill but return 0.\n",
      "23/01/24 19:03:13 WARN RowBasedKeyValueBatch: Calling spill() on RowBasedKeyValueBatch. Will not spill but return 0.\n",
      "23/01/24 19:03:13 WARN RowBasedKeyValueBatch: Calling spill() on RowBasedKeyValueBatch. Will not spill but return 0.\n",
      "23/01/24 19:03:13 WARN RowBasedKeyValueBatch: Calling spill() on RowBasedKeyValueBatch. Will not spill but return 0.\n"
     ]
    },
    {
     "name": "stderr",
     "output_type": "stream",
     "text": [
      "[Stage 145:===================================================>   (16 + 1) / 17]\r"
     ]
    },
    {
     "name": "stdout",
     "output_type": "stream",
     "text": [
      "+----------------------------+----------------------------------+-----+-------+\n",
      "|crimeType                   |districtName                      |cases|percent|\n",
      "+----------------------------+----------------------------------+-----+-------+\n",
      "|Violence and sexual offences|Metropolitan Police Service       |78623|4.52   |\n",
      "|Violence and sexual offences|West Midlands Police              |53400|3.07   |\n",
      "|Violence and sexual offences|West Yorkshire Police             |47425|2.72   |\n",
      "|Other theft                 |Metropolitan Police Service       |43404|2.49   |\n",
      "|Vehicle crime               |Metropolitan Police Service       |38472|2.21   |\n",
      "|Violence and sexual offences|Thames Valley Police              |27491|1.58   |\n",
      "|Violence and sexual offences|Kent Police                       |27305|1.57   |\n",
      "|Violence and sexual offences|Hampshire Constabulary            |26502|1.52   |\n",
      "|Violence and sexual offences|Essex Police                      |25142|1.44   |\n",
      "|Violence and sexual offences|Merseyside Police                 |24675|1.42   |\n",
      "|Violence and sexual offences|South Yorkshire Police            |20869|1.2    |\n",
      "|Violence and sexual offences|Lancashire Constabulary           |20611|1.18   |\n",
      "|Violence and sexual offences|Northumbria Police                |19659|1.13   |\n",
      "|Violence and sexual offences|Avon and Somerset Constabulary    |19502|1.12   |\n",
      "|Theft from the person       |Metropolitan Police Service       |19135|1.1    |\n",
      "|Public order                |Metropolitan Police Service       |18509|1.06   |\n",
      "|Burglary                    |Metropolitan Police Service       |18283|1.05   |\n",
      "|Violence and sexual offences|Sussex Police                     |17876|1.03   |\n",
      "|Criminal damage and arson   |Metropolitan Police Service       |17810|1.02   |\n",
      "|Violence and sexual offences|Police Service of Northern Ireland|17468|1.0    |\n",
      "+----------------------------+----------------------------------+-----+-------+\n",
      "only showing top 20 rows\n",
      "\n"
     ]
    },
    {
     "name": "stderr",
     "output_type": "stream",
     "text": [
      "                                                                                \r"
     ]
    }
   ],
   "source": [
    "def agg_crime_types_by_disctrict_count(df: pysql.DataFrame):\n",
    "    _df = df.groupBy('crimeType', 'districtName').agg(F.count('crimeType').alias('cases'))\n",
    "    total = df.count()\n",
    "\n",
    "    return (_df.withColumn('percent', F.round(100.0 * F.col('cases')/total, 2))\n",
    "               .orderBy(F.desc('percent'))\n",
    "             )\n",
    "\n",
    "check_df = agg_crime_types_by_disctrict_count(df_all)\n",
    "assert 100.0 == round(check_df.select(F.sum(\"percent\").alias('prc')).collect()[0]['prc'], 0)\n",
    "\n",
    "check_df.show(truncate=False)"
   ]
  },
  {
   "cell_type": "code",
   "execution_count": 19,
   "metadata": {},
   "outputs": [
    {
     "ename": "AnalysisException",
     "evalue": "Column 'lastOutcome' does not exist. Did you mean one of the following? [Latitude, Crime type, Longitude, Outcome type, Month, Crime ID, Reported by, Last outcome category];\n'Aggregate ['lastOutcome, 'districtName], ['lastOutcome, 'districtName, count('lastOutcome) AS cases#396]\n+- Project [Crime ID#65, Month#66, Reported by#67, Longitude#68, Latitude#69, Crime type#70, Last outcome category#71, Outcome type#1]\n   +- Join LeftOuter, (Crime ID#65 = Crime ID#0)\n      :- Project [Crime ID#65, Month#66, Reported by#67, Longitude#68, Latitude#69, Crime type#70, Last outcome category#71]\n      :  +- Relation [Crime ID#65,Month#66,Reported by#67,Longitude#68,Latitude#69,Crime type#70,Last outcome category#71,__index_level_0__#72L] parquet\n      +- Project [Crime ID#0, Outcome type#1]\n         +- Relation [Crime ID#0,Outcome type#1,__index_level_0__#2L] parquet\n",
     "output_type": "error",
     "traceback": [
      "\u001b[0;31m---------------------------------------------------------------------------\u001b[0m",
      "\u001b[0;31mAnalysisException\u001b[0m                         Traceback (most recent call last)",
      "\u001b[1;32m/Users/artem_zaika/Work_My/TRG_task/TASK2/kpi_research.ipynb Cell 35\u001b[0m in \u001b[0;36m<cell line: 9>\u001b[0;34m()\u001b[0m\n\u001b[1;32m      <a href='vscode-notebook-cell:/Users/artem_zaika/Work_My/TRG_task/TASK2/kpi_research.ipynb#X46sZmlsZQ%3D%3D?line=2'>3</a>\u001b[0m     total \u001b[39m=\u001b[39m df\u001b[39m.\u001b[39mcount()\n\u001b[1;32m      <a href='vscode-notebook-cell:/Users/artem_zaika/Work_My/TRG_task/TASK2/kpi_research.ipynb#X46sZmlsZQ%3D%3D?line=4'>5</a>\u001b[0m     \u001b[39mreturn\u001b[39;00m (_df\u001b[39m.\u001b[39mwithColumn(\u001b[39m'\u001b[39m\u001b[39mpercent\u001b[39m\u001b[39m'\u001b[39m, F\u001b[39m.\u001b[39mround(\u001b[39m100.0\u001b[39m \u001b[39m*\u001b[39m F\u001b[39m.\u001b[39mcol(\u001b[39m'\u001b[39m\u001b[39mcases\u001b[39m\u001b[39m'\u001b[39m)\u001b[39m/\u001b[39mtotal, \u001b[39m2\u001b[39m))\n\u001b[1;32m      <a href='vscode-notebook-cell:/Users/artem_zaika/Work_My/TRG_task/TASK2/kpi_research.ipynb#X46sZmlsZQ%3D%3D?line=5'>6</a>\u001b[0m                \u001b[39m.\u001b[39morderBy(F\u001b[39m.\u001b[39mdesc(\u001b[39m'\u001b[39m\u001b[39mpercent\u001b[39m\u001b[39m'\u001b[39m))\n\u001b[1;32m      <a href='vscode-notebook-cell:/Users/artem_zaika/Work_My/TRG_task/TASK2/kpi_research.ipynb#X46sZmlsZQ%3D%3D?line=6'>7</a>\u001b[0m              )\n\u001b[0;32m----> <a href='vscode-notebook-cell:/Users/artem_zaika/Work_My/TRG_task/TASK2/kpi_research.ipynb#X46sZmlsZQ%3D%3D?line=8'>9</a>\u001b[0m check_df \u001b[39m=\u001b[39m agg_outcome_by_disctrict_count(df_all)\n\u001b[1;32m     <a href='vscode-notebook-cell:/Users/artem_zaika/Work_My/TRG_task/TASK2/kpi_research.ipynb#X46sZmlsZQ%3D%3D?line=9'>10</a>\u001b[0m \u001b[39massert\u001b[39;00m \u001b[39m100.0\u001b[39m \u001b[39m==\u001b[39m \u001b[39mround\u001b[39m(check_df\u001b[39m.\u001b[39mselect(F\u001b[39m.\u001b[39msum(\u001b[39m\"\u001b[39m\u001b[39mpercent\u001b[39m\u001b[39m\"\u001b[39m)\u001b[39m.\u001b[39malias(\u001b[39m'\u001b[39m\u001b[39mprc\u001b[39m\u001b[39m'\u001b[39m))\u001b[39m.\u001b[39mcollect()[\u001b[39m0\u001b[39m][\u001b[39m'\u001b[39m\u001b[39mprc\u001b[39m\u001b[39m'\u001b[39m], \u001b[39m0\u001b[39m)\n\u001b[1;32m     <a href='vscode-notebook-cell:/Users/artem_zaika/Work_My/TRG_task/TASK2/kpi_research.ipynb#X46sZmlsZQ%3D%3D?line=11'>12</a>\u001b[0m check_df\u001b[39m.\u001b[39mshow(truncate\u001b[39m=\u001b[39m\u001b[39mFalse\u001b[39;00m)\n",
      "\u001b[1;32m/Users/artem_zaika/Work_My/TRG_task/TASK2/kpi_research.ipynb Cell 35\u001b[0m in \u001b[0;36magg_outcome_by_disctrict_count\u001b[0;34m(df)\u001b[0m\n\u001b[1;32m      <a href='vscode-notebook-cell:/Users/artem_zaika/Work_My/TRG_task/TASK2/kpi_research.ipynb#X46sZmlsZQ%3D%3D?line=0'>1</a>\u001b[0m \u001b[39mdef\u001b[39;00m \u001b[39magg_outcome_by_disctrict_count\u001b[39m(df: pysql\u001b[39m.\u001b[39mDataFrame):\n\u001b[0;32m----> <a href='vscode-notebook-cell:/Users/artem_zaika/Work_My/TRG_task/TASK2/kpi_research.ipynb#X46sZmlsZQ%3D%3D?line=1'>2</a>\u001b[0m     _df \u001b[39m=\u001b[39m df\u001b[39m.\u001b[39;49mgroupBy(\u001b[39m'\u001b[39;49m\u001b[39mlastOutcome\u001b[39;49m\u001b[39m'\u001b[39;49m, \u001b[39m'\u001b[39;49m\u001b[39mdistrictName\u001b[39;49m\u001b[39m'\u001b[39;49m)\u001b[39m.\u001b[39;49magg(F\u001b[39m.\u001b[39;49mcount(\u001b[39m'\u001b[39;49m\u001b[39mlastOutcome\u001b[39;49m\u001b[39m'\u001b[39;49m)\u001b[39m.\u001b[39;49malias(\u001b[39m'\u001b[39;49m\u001b[39mcases\u001b[39;49m\u001b[39m'\u001b[39;49m))\n\u001b[1;32m      <a href='vscode-notebook-cell:/Users/artem_zaika/Work_My/TRG_task/TASK2/kpi_research.ipynb#X46sZmlsZQ%3D%3D?line=2'>3</a>\u001b[0m     total \u001b[39m=\u001b[39m df\u001b[39m.\u001b[39mcount()\n\u001b[1;32m      <a href='vscode-notebook-cell:/Users/artem_zaika/Work_My/TRG_task/TASK2/kpi_research.ipynb#X46sZmlsZQ%3D%3D?line=4'>5</a>\u001b[0m     \u001b[39mreturn\u001b[39;00m (_df\u001b[39m.\u001b[39mwithColumn(\u001b[39m'\u001b[39m\u001b[39mpercent\u001b[39m\u001b[39m'\u001b[39m, F\u001b[39m.\u001b[39mround(\u001b[39m100.0\u001b[39m \u001b[39m*\u001b[39m F\u001b[39m.\u001b[39mcol(\u001b[39m'\u001b[39m\u001b[39mcases\u001b[39m\u001b[39m'\u001b[39m)\u001b[39m/\u001b[39mtotal, \u001b[39m2\u001b[39m))\n\u001b[1;32m      <a href='vscode-notebook-cell:/Users/artem_zaika/Work_My/TRG_task/TASK2/kpi_research.ipynb#X46sZmlsZQ%3D%3D?line=5'>6</a>\u001b[0m                \u001b[39m.\u001b[39morderBy(F\u001b[39m.\u001b[39mdesc(\u001b[39m'\u001b[39m\u001b[39mpercent\u001b[39m\u001b[39m'\u001b[39m))\n\u001b[1;32m      <a href='vscode-notebook-cell:/Users/artem_zaika/Work_My/TRG_task/TASK2/kpi_research.ipynb#X46sZmlsZQ%3D%3D?line=6'>7</a>\u001b[0m              )\n",
      "File \u001b[0;32m/usr/local/Cellar/apache-spark/3.3.1/libexec/python/pyspark/sql/group.py:137\u001b[0m, in \u001b[0;36mGroupedData.agg\u001b[0;34m(self, *exprs)\u001b[0m\n\u001b[1;32m    135\u001b[0m     \u001b[39massert\u001b[39;00m \u001b[39mall\u001b[39m(\u001b[39misinstance\u001b[39m(c, Column) \u001b[39mfor\u001b[39;00m c \u001b[39min\u001b[39;00m exprs), \u001b[39m\"\u001b[39m\u001b[39mall exprs should be Column\u001b[39m\u001b[39m\"\u001b[39m\n\u001b[1;32m    136\u001b[0m     exprs \u001b[39m=\u001b[39m cast(Tuple[Column, \u001b[39m.\u001b[39m\u001b[39m.\u001b[39m\u001b[39m.\u001b[39m], exprs)\n\u001b[0;32m--> 137\u001b[0m     jdf \u001b[39m=\u001b[39m \u001b[39mself\u001b[39;49m\u001b[39m.\u001b[39;49m_jgd\u001b[39m.\u001b[39;49magg(exprs[\u001b[39m0\u001b[39;49m]\u001b[39m.\u001b[39;49m_jc, _to_seq(\u001b[39mself\u001b[39;49m\u001b[39m.\u001b[39;49msession\u001b[39m.\u001b[39;49m_sc, [c\u001b[39m.\u001b[39;49m_jc \u001b[39mfor\u001b[39;49;00m c \u001b[39min\u001b[39;49;00m exprs[\u001b[39m1\u001b[39;49m:]]))\n\u001b[1;32m    138\u001b[0m \u001b[39mreturn\u001b[39;00m DataFrame(jdf, \u001b[39mself\u001b[39m\u001b[39m.\u001b[39msession)\n",
      "File \u001b[0;32m/usr/local/Cellar/apache-spark/3.3.1/libexec/python/lib/py4j-0.10.9.5-src.zip/py4j/java_gateway.py:1321\u001b[0m, in \u001b[0;36mJavaMember.__call__\u001b[0;34m(self, *args)\u001b[0m\n\u001b[1;32m   1315\u001b[0m command \u001b[39m=\u001b[39m proto\u001b[39m.\u001b[39mCALL_COMMAND_NAME \u001b[39m+\u001b[39m\\\n\u001b[1;32m   1316\u001b[0m     \u001b[39mself\u001b[39m\u001b[39m.\u001b[39mcommand_header \u001b[39m+\u001b[39m\\\n\u001b[1;32m   1317\u001b[0m     args_command \u001b[39m+\u001b[39m\\\n\u001b[1;32m   1318\u001b[0m     proto\u001b[39m.\u001b[39mEND_COMMAND_PART\n\u001b[1;32m   1320\u001b[0m answer \u001b[39m=\u001b[39m \u001b[39mself\u001b[39m\u001b[39m.\u001b[39mgateway_client\u001b[39m.\u001b[39msend_command(command)\n\u001b[0;32m-> 1321\u001b[0m return_value \u001b[39m=\u001b[39m get_return_value(\n\u001b[1;32m   1322\u001b[0m     answer, \u001b[39mself\u001b[39;49m\u001b[39m.\u001b[39;49mgateway_client, \u001b[39mself\u001b[39;49m\u001b[39m.\u001b[39;49mtarget_id, \u001b[39mself\u001b[39;49m\u001b[39m.\u001b[39;49mname)\n\u001b[1;32m   1324\u001b[0m \u001b[39mfor\u001b[39;00m temp_arg \u001b[39min\u001b[39;00m temp_args:\n\u001b[1;32m   1325\u001b[0m     temp_arg\u001b[39m.\u001b[39m_detach()\n",
      "File \u001b[0;32m/usr/local/Cellar/apache-spark/3.3.1/libexec/python/pyspark/sql/utils.py:196\u001b[0m, in \u001b[0;36mcapture_sql_exception.<locals>.deco\u001b[0;34m(*a, **kw)\u001b[0m\n\u001b[1;32m    192\u001b[0m converted \u001b[39m=\u001b[39m convert_exception(e\u001b[39m.\u001b[39mjava_exception)\n\u001b[1;32m    193\u001b[0m \u001b[39mif\u001b[39;00m \u001b[39mnot\u001b[39;00m \u001b[39misinstance\u001b[39m(converted, UnknownException):\n\u001b[1;32m    194\u001b[0m     \u001b[39m# Hide where the exception came from that shows a non-Pythonic\u001b[39;00m\n\u001b[1;32m    195\u001b[0m     \u001b[39m# JVM exception message.\u001b[39;00m\n\u001b[0;32m--> 196\u001b[0m     \u001b[39mraise\u001b[39;00m converted \u001b[39mfrom\u001b[39;00m \u001b[39mNone\u001b[39m\n\u001b[1;32m    197\u001b[0m \u001b[39melse\u001b[39;00m:\n\u001b[1;32m    198\u001b[0m     \u001b[39mraise\u001b[39;00m\n",
      "\u001b[0;31mAnalysisException\u001b[0m: Column 'lastOutcome' does not exist. Did you mean one of the following? [Latitude, Crime type, Longitude, Outcome type, Month, Crime ID, Reported by, Last outcome category];\n'Aggregate ['lastOutcome, 'districtName], ['lastOutcome, 'districtName, count('lastOutcome) AS cases#396]\n+- Project [Crime ID#65, Month#66, Reported by#67, Longitude#68, Latitude#69, Crime type#70, Last outcome category#71, Outcome type#1]\n   +- Join LeftOuter, (Crime ID#65 = Crime ID#0)\n      :- Project [Crime ID#65, Month#66, Reported by#67, Longitude#68, Latitude#69, Crime type#70, Last outcome category#71]\n      :  +- Relation [Crime ID#65,Month#66,Reported by#67,Longitude#68,Latitude#69,Crime type#70,Last outcome category#71,__index_level_0__#72L] parquet\n      +- Project [Crime ID#0, Outcome type#1]\n         +- Relation [Crime ID#0,Outcome type#1,__index_level_0__#2L] parquet\n"
     ]
    }
   ],
   "source": [
    "def agg_outcome_by_disctrict_count(df: pysql.DataFrame):\n",
    "    _df = df.groupBy('lastOutcome', 'districtName').agg(F.count('lastOutcome').alias('cases'))\n",
    "    total = df.count()\n",
    "\n",
    "    return (_df.withColumn('percent', F.round(100.0 * F.col('cases')/total, 2))\n",
    "               .orderBy(F.desc('percent'))\n",
    "             )\n",
    "\n",
    "check_df = agg_outcome_by_disctrict_count(df_all)\n",
    "assert 100.0 == round(check_df.select(F.sum(\"percent\").alias('prc')).collect()[0]['prc'], 0)\n",
    "\n",
    "check_df.show(truncate=False)"
   ]
  },
  {
   "cell_type": "code",
   "execution_count": 25,
   "metadata": {},
   "outputs": [
    {
     "ename": "ConnectionRefusedError",
     "evalue": "[Errno 61] Connection refused",
     "output_type": "error",
     "traceback": [
      "\u001b[0;31m---------------------------------------------------------------------------\u001b[0m",
      "\u001b[0;31mConnectionRefusedError\u001b[0m                    Traceback (most recent call last)",
      "\u001b[1;32m/Users/artem_zaika/Work_My/TRG_task/TASK2/kpi_research.ipynb Cell 32\u001b[0m in \u001b[0;36m<cell line: 9>\u001b[0;34m()\u001b[0m\n\u001b[1;32m      <a href='vscode-notebook-cell:/Users/artem_zaika/Work_My/TRG_task/TASK2/kpi_research.ipynb#X40sZmlsZQ%3D%3D?line=2'>3</a>\u001b[0m     total \u001b[39m=\u001b[39m df\u001b[39m.\u001b[39mcount()\n\u001b[1;32m      <a href='vscode-notebook-cell:/Users/artem_zaika/Work_My/TRG_task/TASK2/kpi_research.ipynb#X40sZmlsZQ%3D%3D?line=4'>5</a>\u001b[0m     \u001b[39mreturn\u001b[39;00m (_df\u001b[39m.\u001b[39mwithColumn(\u001b[39m'\u001b[39m\u001b[39mpercent\u001b[39m\u001b[39m'\u001b[39m, F\u001b[39m.\u001b[39mround(\u001b[39m100.0\u001b[39m \u001b[39m*\u001b[39m F\u001b[39m.\u001b[39mcol(\u001b[39m'\u001b[39m\u001b[39mcases\u001b[39m\u001b[39m'\u001b[39m)\u001b[39m/\u001b[39mtotal, \u001b[39m2\u001b[39m))\n\u001b[1;32m      <a href='vscode-notebook-cell:/Users/artem_zaika/Work_My/TRG_task/TASK2/kpi_research.ipynb#X40sZmlsZQ%3D%3D?line=5'>6</a>\u001b[0m                \u001b[39m.\u001b[39morderBy(F\u001b[39m.\u001b[39mdesc(\u001b[39m'\u001b[39m\u001b[39mpercent\u001b[39m\u001b[39m'\u001b[39m))\n\u001b[1;32m      <a href='vscode-notebook-cell:/Users/artem_zaika/Work_My/TRG_task/TASK2/kpi_research.ipynb#X40sZmlsZQ%3D%3D?line=6'>7</a>\u001b[0m              )\n\u001b[0;32m----> <a href='vscode-notebook-cell:/Users/artem_zaika/Work_My/TRG_task/TASK2/kpi_research.ipynb#X40sZmlsZQ%3D%3D?line=8'>9</a>\u001b[0m check_df \u001b[39m=\u001b[39m agg_occurences_by_district(df_all)\n\u001b[1;32m     <a href='vscode-notebook-cell:/Users/artem_zaika/Work_My/TRG_task/TASK2/kpi_research.ipynb#X40sZmlsZQ%3D%3D?line=9'>10</a>\u001b[0m \u001b[39massert\u001b[39;00m \u001b[39m100.0\u001b[39m \u001b[39m==\u001b[39m \u001b[39mround\u001b[39m(check_df\u001b[39m.\u001b[39mselect(F\u001b[39m.\u001b[39msum(\u001b[39m\"\u001b[39m\u001b[39mpercent\u001b[39m\u001b[39m\"\u001b[39m)\u001b[39m.\u001b[39malias(\u001b[39m'\u001b[39m\u001b[39mprc\u001b[39m\u001b[39m'\u001b[39m))\u001b[39m.\u001b[39mcollect()[\u001b[39m0\u001b[39m][\u001b[39m'\u001b[39m\u001b[39mprc\u001b[39m\u001b[39m'\u001b[39m], \u001b[39m0\u001b[39m)\n\u001b[1;32m     <a href='vscode-notebook-cell:/Users/artem_zaika/Work_My/TRG_task/TASK2/kpi_research.ipynb#X40sZmlsZQ%3D%3D?line=11'>12</a>\u001b[0m check_df\u001b[39m.\u001b[39mshow(truncate\u001b[39m=\u001b[39m\u001b[39mFalse\u001b[39;00m)\n",
      "\u001b[1;32m/Users/artem_zaika/Work_My/TRG_task/TASK2/kpi_research.ipynb Cell 32\u001b[0m in \u001b[0;36magg_occurences_by_district\u001b[0;34m(df)\u001b[0m\n\u001b[1;32m      <a href='vscode-notebook-cell:/Users/artem_zaika/Work_My/TRG_task/TASK2/kpi_research.ipynb#X40sZmlsZQ%3D%3D?line=0'>1</a>\u001b[0m \u001b[39mdef\u001b[39;00m \u001b[39magg_occurences_by_district\u001b[39m(df: pysql\u001b[39m.\u001b[39mDataFrame):\n\u001b[0;32m----> <a href='vscode-notebook-cell:/Users/artem_zaika/Work_My/TRG_task/TASK2/kpi_research.ipynb#X40sZmlsZQ%3D%3D?line=1'>2</a>\u001b[0m     _df \u001b[39m=\u001b[39m df\u001b[39m.\u001b[39;49mgroupBy(\u001b[39m'\u001b[39;49m\u001b[39mdistrictName\u001b[39;49m\u001b[39m'\u001b[39;49m)\u001b[39m.\u001b[39magg(F\u001b[39m.\u001b[39mcount(\u001b[39m'\u001b[39m\u001b[39mcrimeType\u001b[39m\u001b[39m'\u001b[39m)\u001b[39m.\u001b[39malias(\u001b[39m'\u001b[39m\u001b[39mcases\u001b[39m\u001b[39m'\u001b[39m))\n\u001b[1;32m      <a href='vscode-notebook-cell:/Users/artem_zaika/Work_My/TRG_task/TASK2/kpi_research.ipynb#X40sZmlsZQ%3D%3D?line=2'>3</a>\u001b[0m     total \u001b[39m=\u001b[39m df\u001b[39m.\u001b[39mcount()\n\u001b[1;32m      <a href='vscode-notebook-cell:/Users/artem_zaika/Work_My/TRG_task/TASK2/kpi_research.ipynb#X40sZmlsZQ%3D%3D?line=4'>5</a>\u001b[0m     \u001b[39mreturn\u001b[39;00m (_df\u001b[39m.\u001b[39mwithColumn(\u001b[39m'\u001b[39m\u001b[39mpercent\u001b[39m\u001b[39m'\u001b[39m, F\u001b[39m.\u001b[39mround(\u001b[39m100.0\u001b[39m \u001b[39m*\u001b[39m F\u001b[39m.\u001b[39mcol(\u001b[39m'\u001b[39m\u001b[39mcases\u001b[39m\u001b[39m'\u001b[39m)\u001b[39m/\u001b[39mtotal, \u001b[39m2\u001b[39m))\n\u001b[1;32m      <a href='vscode-notebook-cell:/Users/artem_zaika/Work_My/TRG_task/TASK2/kpi_research.ipynb#X40sZmlsZQ%3D%3D?line=5'>6</a>\u001b[0m                \u001b[39m.\u001b[39morderBy(F\u001b[39m.\u001b[39mdesc(\u001b[39m'\u001b[39m\u001b[39mpercent\u001b[39m\u001b[39m'\u001b[39m))\n\u001b[1;32m      <a href='vscode-notebook-cell:/Users/artem_zaika/Work_My/TRG_task/TASK2/kpi_research.ipynb#X40sZmlsZQ%3D%3D?line=6'>7</a>\u001b[0m              )\n",
      "File \u001b[0;32m/usr/local/Cellar/apache-spark/3.3.1/libexec/python/pyspark/sql/dataframe.py:2118\u001b[0m, in \u001b[0;36mDataFrame.groupBy\u001b[0;34m(self, *cols)\u001b[0m\n\u001b[1;32m   2092\u001b[0m \u001b[39mdef\u001b[39;00m \u001b[39mgroupBy\u001b[39m(\u001b[39mself\u001b[39m, \u001b[39m*\u001b[39mcols: \u001b[39m\"\u001b[39m\u001b[39mColumnOrName\u001b[39m\u001b[39m\"\u001b[39m) \u001b[39m-\u001b[39m\u001b[39m>\u001b[39m \u001b[39m\"\u001b[39m\u001b[39mGroupedData\u001b[39m\u001b[39m\"\u001b[39m:  \u001b[39m# type: ignore[misc]\u001b[39;00m\n\u001b[1;32m   2093\u001b[0m     \u001b[39m\"\"\"Groups the :class:`DataFrame` using the specified columns,\u001b[39;00m\n\u001b[1;32m   2094\u001b[0m \u001b[39m    so we can run aggregation on them. See :class:`GroupedData`\u001b[39;00m\n\u001b[1;32m   2095\u001b[0m \u001b[39m    for all the available aggregate functions.\u001b[39;00m\n\u001b[0;32m   (...)\u001b[0m\n\u001b[1;32m   2116\u001b[0m \u001b[39m    [Row(name='Alice', age=2, count=1), Row(name='Bob', age=5, count=1)]\u001b[39;00m\n\u001b[1;32m   2117\u001b[0m \u001b[39m    \"\"\"\u001b[39;00m\n\u001b[0;32m-> 2118\u001b[0m     jgd \u001b[39m=\u001b[39m \u001b[39mself\u001b[39m\u001b[39m.\u001b[39m_jdf\u001b[39m.\u001b[39mgroupBy(\u001b[39mself\u001b[39;49m\u001b[39m.\u001b[39;49m_jcols(\u001b[39m*\u001b[39;49mcols))\n\u001b[1;32m   2119\u001b[0m     \u001b[39mfrom\u001b[39;00m \u001b[39mpyspark\u001b[39;00m\u001b[39m.\u001b[39;00m\u001b[39msql\u001b[39;00m\u001b[39m.\u001b[39;00m\u001b[39mgroup\u001b[39;00m \u001b[39mimport\u001b[39;00m GroupedData\n\u001b[1;32m   2121\u001b[0m     \u001b[39mreturn\u001b[39;00m GroupedData(jgd, \u001b[39mself\u001b[39m)\n",
      "File \u001b[0;32m/usr/local/Cellar/apache-spark/3.3.1/libexec/python/pyspark/sql/dataframe.py:1754\u001b[0m, in \u001b[0;36mDataFrame._jcols\u001b[0;34m(self, *cols)\u001b[0m\n\u001b[1;32m   1752\u001b[0m \u001b[39mif\u001b[39;00m \u001b[39mlen\u001b[39m(cols) \u001b[39m==\u001b[39m \u001b[39m1\u001b[39m \u001b[39mand\u001b[39;00m \u001b[39misinstance\u001b[39m(cols[\u001b[39m0\u001b[39m], \u001b[39mlist\u001b[39m):\n\u001b[1;32m   1753\u001b[0m     cols \u001b[39m=\u001b[39m cols[\u001b[39m0\u001b[39m]\n\u001b[0;32m-> 1754\u001b[0m \u001b[39mreturn\u001b[39;00m \u001b[39mself\u001b[39;49m\u001b[39m.\u001b[39;49m_jseq(cols, _to_java_column)\n",
      "File \u001b[0;32m/usr/local/Cellar/apache-spark/3.3.1/libexec/python/pyspark/sql/dataframe.py:1741\u001b[0m, in \u001b[0;36mDataFrame._jseq\u001b[0;34m(self, cols, converter)\u001b[0m\n\u001b[1;32m   1735\u001b[0m \u001b[39mdef\u001b[39;00m \u001b[39m_jseq\u001b[39m(\n\u001b[1;32m   1736\u001b[0m     \u001b[39mself\u001b[39m,\n\u001b[1;32m   1737\u001b[0m     cols: Sequence,\n\u001b[1;32m   1738\u001b[0m     converter: Optional[Callable[\u001b[39m.\u001b[39m\u001b[39m.\u001b[39m\u001b[39m.\u001b[39m, Union[\u001b[39m\"\u001b[39m\u001b[39mPrimitiveType\u001b[39m\u001b[39m\"\u001b[39m, JavaObject]]] \u001b[39m=\u001b[39m \u001b[39mNone\u001b[39;00m,\n\u001b[1;32m   1739\u001b[0m ) \u001b[39m-\u001b[39m\u001b[39m>\u001b[39m JavaObject:\n\u001b[1;32m   1740\u001b[0m     \u001b[39m\"\"\"Return a JVM Seq of Columns from a list of Column or names\"\"\"\u001b[39;00m\n\u001b[0;32m-> 1741\u001b[0m     \u001b[39mreturn\u001b[39;00m _to_seq(\u001b[39mself\u001b[39;49m\u001b[39m.\u001b[39;49msparkSession\u001b[39m.\u001b[39;49m_sc, cols, converter)\n",
      "File \u001b[0;32m/usr/local/Cellar/apache-spark/3.3.1/libexec/python/pyspark/sql/column.py:86\u001b[0m, in \u001b[0;36m_to_seq\u001b[0;34m(sc, cols, converter)\u001b[0m\n\u001b[1;32m     79\u001b[0m \u001b[39m\"\"\"\u001b[39;00m\n\u001b[1;32m     80\u001b[0m \u001b[39mConvert a list of Column (or names) into a JVM Seq of Column.\u001b[39;00m\n\u001b[1;32m     81\u001b[0m \n\u001b[1;32m     82\u001b[0m \u001b[39mAn optional `converter` could be used to convert items in `cols`\u001b[39;00m\n\u001b[1;32m     83\u001b[0m \u001b[39minto JVM Column objects.\u001b[39;00m\n\u001b[1;32m     84\u001b[0m \u001b[39m\"\"\"\u001b[39;00m\n\u001b[1;32m     85\u001b[0m \u001b[39mif\u001b[39;00m converter:\n\u001b[0;32m---> 86\u001b[0m     cols \u001b[39m=\u001b[39m [converter(c) \u001b[39mfor\u001b[39;00m c \u001b[39min\u001b[39;00m cols]\n\u001b[1;32m     87\u001b[0m \u001b[39massert\u001b[39;00m sc\u001b[39m.\u001b[39m_jvm \u001b[39mis\u001b[39;00m \u001b[39mnot\u001b[39;00m \u001b[39mNone\u001b[39;00m\n\u001b[1;32m     88\u001b[0m \u001b[39mreturn\u001b[39;00m sc\u001b[39m.\u001b[39m_jvm\u001b[39m.\u001b[39mPythonUtils\u001b[39m.\u001b[39mtoSeq(cols)\n",
      "File \u001b[0;32m/usr/local/Cellar/apache-spark/3.3.1/libexec/python/pyspark/sql/column.py:86\u001b[0m, in \u001b[0;36m<listcomp>\u001b[0;34m(.0)\u001b[0m\n\u001b[1;32m     79\u001b[0m \u001b[39m\"\"\"\u001b[39;00m\n\u001b[1;32m     80\u001b[0m \u001b[39mConvert a list of Column (or names) into a JVM Seq of Column.\u001b[39;00m\n\u001b[1;32m     81\u001b[0m \n\u001b[1;32m     82\u001b[0m \u001b[39mAn optional `converter` could be used to convert items in `cols`\u001b[39;00m\n\u001b[1;32m     83\u001b[0m \u001b[39minto JVM Column objects.\u001b[39;00m\n\u001b[1;32m     84\u001b[0m \u001b[39m\"\"\"\u001b[39;00m\n\u001b[1;32m     85\u001b[0m \u001b[39mif\u001b[39;00m converter:\n\u001b[0;32m---> 86\u001b[0m     cols \u001b[39m=\u001b[39m [converter(c) \u001b[39mfor\u001b[39;00m c \u001b[39min\u001b[39;00m cols]\n\u001b[1;32m     87\u001b[0m \u001b[39massert\u001b[39;00m sc\u001b[39m.\u001b[39m_jvm \u001b[39mis\u001b[39;00m \u001b[39mnot\u001b[39;00m \u001b[39mNone\u001b[39;00m\n\u001b[1;32m     88\u001b[0m \u001b[39mreturn\u001b[39;00m sc\u001b[39m.\u001b[39m_jvm\u001b[39m.\u001b[39mPythonUtils\u001b[39m.\u001b[39mtoSeq(cols)\n",
      "File \u001b[0;32m/usr/local/Cellar/apache-spark/3.3.1/libexec/python/pyspark/sql/column.py:63\u001b[0m, in \u001b[0;36m_to_java_column\u001b[0;34m(col)\u001b[0m\n\u001b[1;32m     61\u001b[0m     jcol \u001b[39m=\u001b[39m col\u001b[39m.\u001b[39m_jc\n\u001b[1;32m     62\u001b[0m \u001b[39melif\u001b[39;00m \u001b[39misinstance\u001b[39m(col, \u001b[39mstr\u001b[39m):\n\u001b[0;32m---> 63\u001b[0m     jcol \u001b[39m=\u001b[39m _create_column_from_name(col)\n\u001b[1;32m     64\u001b[0m \u001b[39melse\u001b[39;00m:\n\u001b[1;32m     65\u001b[0m     \u001b[39mraise\u001b[39;00m \u001b[39mTypeError\u001b[39;00m(\n\u001b[1;32m     66\u001b[0m         \u001b[39m\"\u001b[39m\u001b[39mInvalid argument, not a string or column: \u001b[39m\u001b[39m\"\u001b[39m\n\u001b[1;32m     67\u001b[0m         \u001b[39m\"\u001b[39m\u001b[39m{0}\u001b[39;00m\u001b[39m of type \u001b[39m\u001b[39m{1}\u001b[39;00m\u001b[39m. \u001b[39m\u001b[39m\"\u001b[39m\n\u001b[1;32m     68\u001b[0m         \u001b[39m\"\u001b[39m\u001b[39mFor column literals, use \u001b[39m\u001b[39m'\u001b[39m\u001b[39mlit\u001b[39m\u001b[39m'\u001b[39m\u001b[39m, \u001b[39m\u001b[39m'\u001b[39m\u001b[39marray\u001b[39m\u001b[39m'\u001b[39m\u001b[39m, \u001b[39m\u001b[39m'\u001b[39m\u001b[39mstruct\u001b[39m\u001b[39m'\u001b[39m\u001b[39m or \u001b[39m\u001b[39m'\u001b[39m\u001b[39mcreate_map\u001b[39m\u001b[39m'\u001b[39m\u001b[39m \u001b[39m\u001b[39m\"\u001b[39m\n\u001b[1;32m     69\u001b[0m         \u001b[39m\"\u001b[39m\u001b[39mfunction.\u001b[39m\u001b[39m\"\u001b[39m\u001b[39m.\u001b[39mformat(col, \u001b[39mtype\u001b[39m(col))\n\u001b[1;32m     70\u001b[0m     )\n",
      "File \u001b[0;32m/usr/local/Cellar/apache-spark/3.3.1/libexec/python/pyspark/sql/column.py:56\u001b[0m, in \u001b[0;36m_create_column_from_name\u001b[0;34m(name)\u001b[0m\n\u001b[1;32m     54\u001b[0m sc \u001b[39m=\u001b[39m SparkContext\u001b[39m.\u001b[39m_active_spark_context\n\u001b[1;32m     55\u001b[0m \u001b[39massert\u001b[39;00m sc \u001b[39mis\u001b[39;00m \u001b[39mnot\u001b[39;00m \u001b[39mNone\u001b[39;00m \u001b[39mand\u001b[39;00m sc\u001b[39m.\u001b[39m_jvm \u001b[39mis\u001b[39;00m \u001b[39mnot\u001b[39;00m \u001b[39mNone\u001b[39;00m\n\u001b[0;32m---> 56\u001b[0m \u001b[39mreturn\u001b[39;00m sc\u001b[39m.\u001b[39;49m_jvm\u001b[39m.\u001b[39;49mfunctions\u001b[39m.\u001b[39mcol(name)\n",
      "File \u001b[0;32m/usr/local/Cellar/apache-spark/3.3.1/libexec/python/lib/py4j-0.10.9.5-src.zip/py4j/java_gateway.py:1709\u001b[0m, in \u001b[0;36mJVMView.__getattr__\u001b[0;34m(self, name)\u001b[0m\n\u001b[1;32m   1706\u001b[0m \u001b[39mif\u001b[39;00m name \u001b[39m==\u001b[39m UserHelpAutoCompletion\u001b[39m.\u001b[39mKEY:\n\u001b[1;32m   1707\u001b[0m     \u001b[39mreturn\u001b[39;00m UserHelpAutoCompletion()\n\u001b[0;32m-> 1709\u001b[0m answer \u001b[39m=\u001b[39m \u001b[39mself\u001b[39;49m\u001b[39m.\u001b[39;49m_gateway_client\u001b[39m.\u001b[39;49msend_command(\n\u001b[1;32m   1710\u001b[0m     proto\u001b[39m.\u001b[39;49mREFLECTION_COMMAND_NAME \u001b[39m+\u001b[39;49m\n\u001b[1;32m   1711\u001b[0m     proto\u001b[39m.\u001b[39;49mREFL_GET_UNKNOWN_SUB_COMMAND_NAME \u001b[39m+\u001b[39;49m name \u001b[39m+\u001b[39;49m \u001b[39m\"\u001b[39;49m\u001b[39m\\n\u001b[39;49;00m\u001b[39m\"\u001b[39;49m \u001b[39m+\u001b[39;49m \u001b[39mself\u001b[39;49m\u001b[39m.\u001b[39;49m_id \u001b[39m+\u001b[39;49m\n\u001b[1;32m   1712\u001b[0m     \u001b[39m\"\u001b[39;49m\u001b[39m\\n\u001b[39;49;00m\u001b[39m\"\u001b[39;49m \u001b[39m+\u001b[39;49m proto\u001b[39m.\u001b[39;49mEND_COMMAND_PART)\n\u001b[1;32m   1713\u001b[0m \u001b[39mif\u001b[39;00m answer \u001b[39m==\u001b[39m proto\u001b[39m.\u001b[39mSUCCESS_PACKAGE:\n\u001b[1;32m   1714\u001b[0m     \u001b[39mreturn\u001b[39;00m JavaPackage(name, \u001b[39mself\u001b[39m\u001b[39m.\u001b[39m_gateway_client, jvm_id\u001b[39m=\u001b[39m\u001b[39mself\u001b[39m\u001b[39m.\u001b[39m_id)\n",
      "File \u001b[0;32m/usr/local/Cellar/apache-spark/3.3.1/libexec/python/lib/py4j-0.10.9.5-src.zip/py4j/java_gateway.py:1036\u001b[0m, in \u001b[0;36mGatewayClient.send_command\u001b[0;34m(self, command, retry, binary)\u001b[0m\n\u001b[1;32m   1015\u001b[0m \u001b[39mdef\u001b[39;00m \u001b[39msend_command\u001b[39m(\u001b[39mself\u001b[39m, command, retry\u001b[39m=\u001b[39m\u001b[39mTrue\u001b[39;00m, binary\u001b[39m=\u001b[39m\u001b[39mFalse\u001b[39;00m):\n\u001b[1;32m   1016\u001b[0m     \u001b[39m\"\"\"Sends a command to the JVM. This method is not intended to be\u001b[39;00m\n\u001b[1;32m   1017\u001b[0m \u001b[39m       called directly by Py4J users. It is usually called by\u001b[39;00m\n\u001b[1;32m   1018\u001b[0m \u001b[39m       :class:`JavaMember` instances.\u001b[39;00m\n\u001b[0;32m   (...)\u001b[0m\n\u001b[1;32m   1034\u001b[0m \u001b[39m     if `binary` is `True`.\u001b[39;00m\n\u001b[1;32m   1035\u001b[0m \u001b[39m    \"\"\"\u001b[39;00m\n\u001b[0;32m-> 1036\u001b[0m     connection \u001b[39m=\u001b[39m \u001b[39mself\u001b[39;49m\u001b[39m.\u001b[39;49m_get_connection()\n\u001b[1;32m   1037\u001b[0m     \u001b[39mtry\u001b[39;00m:\n\u001b[1;32m   1038\u001b[0m         response \u001b[39m=\u001b[39m connection\u001b[39m.\u001b[39msend_command(command)\n",
      "File \u001b[0;32m/usr/local/Cellar/apache-spark/3.3.1/libexec/python/lib/py4j-0.10.9.5-src.zip/py4j/clientserver.py:284\u001b[0m, in \u001b[0;36mJavaClient._get_connection\u001b[0;34m(self)\u001b[0m\n\u001b[1;32m    281\u001b[0m     \u001b[39mpass\u001b[39;00m\n\u001b[1;32m    283\u001b[0m \u001b[39mif\u001b[39;00m connection \u001b[39mis\u001b[39;00m \u001b[39mNone\u001b[39;00m \u001b[39mor\u001b[39;00m connection\u001b[39m.\u001b[39msocket \u001b[39mis\u001b[39;00m \u001b[39mNone\u001b[39;00m:\n\u001b[0;32m--> 284\u001b[0m     connection \u001b[39m=\u001b[39m \u001b[39mself\u001b[39;49m\u001b[39m.\u001b[39;49m_create_new_connection()\n\u001b[1;32m    285\u001b[0m \u001b[39mreturn\u001b[39;00m connection\n",
      "File \u001b[0;32m/usr/local/Cellar/apache-spark/3.3.1/libexec/python/lib/py4j-0.10.9.5-src.zip/py4j/clientserver.py:291\u001b[0m, in \u001b[0;36mJavaClient._create_new_connection\u001b[0;34m(self)\u001b[0m\n\u001b[1;32m    287\u001b[0m \u001b[39mdef\u001b[39;00m \u001b[39m_create_new_connection\u001b[39m(\u001b[39mself\u001b[39m):\n\u001b[1;32m    288\u001b[0m     connection \u001b[39m=\u001b[39m ClientServerConnection(\n\u001b[1;32m    289\u001b[0m         \u001b[39mself\u001b[39m\u001b[39m.\u001b[39mjava_parameters, \u001b[39mself\u001b[39m\u001b[39m.\u001b[39mpython_parameters,\n\u001b[1;32m    290\u001b[0m         \u001b[39mself\u001b[39m\u001b[39m.\u001b[39mgateway_property, \u001b[39mself\u001b[39m)\n\u001b[0;32m--> 291\u001b[0m     connection\u001b[39m.\u001b[39;49mconnect_to_java_server()\n\u001b[1;32m    292\u001b[0m     \u001b[39mself\u001b[39m\u001b[39m.\u001b[39mset_thread_connection(connection)\n\u001b[1;32m    293\u001b[0m     \u001b[39mreturn\u001b[39;00m connection\n",
      "File \u001b[0;32m/usr/local/Cellar/apache-spark/3.3.1/libexec/python/lib/py4j-0.10.9.5-src.zip/py4j/clientserver.py:438\u001b[0m, in \u001b[0;36mClientServerConnection.connect_to_java_server\u001b[0;34m(self)\u001b[0m\n\u001b[1;32m    435\u001b[0m \u001b[39mif\u001b[39;00m \u001b[39mself\u001b[39m\u001b[39m.\u001b[39mssl_context:\n\u001b[1;32m    436\u001b[0m     \u001b[39mself\u001b[39m\u001b[39m.\u001b[39msocket \u001b[39m=\u001b[39m \u001b[39mself\u001b[39m\u001b[39m.\u001b[39mssl_context\u001b[39m.\u001b[39mwrap_socket(\n\u001b[1;32m    437\u001b[0m         \u001b[39mself\u001b[39m\u001b[39m.\u001b[39msocket, server_hostname\u001b[39m=\u001b[39m\u001b[39mself\u001b[39m\u001b[39m.\u001b[39mjava_address)\n\u001b[0;32m--> 438\u001b[0m \u001b[39mself\u001b[39;49m\u001b[39m.\u001b[39;49msocket\u001b[39m.\u001b[39;49mconnect((\u001b[39mself\u001b[39;49m\u001b[39m.\u001b[39;49mjava_address, \u001b[39mself\u001b[39;49m\u001b[39m.\u001b[39;49mjava_port))\n\u001b[1;32m    439\u001b[0m \u001b[39mself\u001b[39m\u001b[39m.\u001b[39mstream \u001b[39m=\u001b[39m \u001b[39mself\u001b[39m\u001b[39m.\u001b[39msocket\u001b[39m.\u001b[39mmakefile(\u001b[39m\"\u001b[39m\u001b[39mrb\u001b[39m\u001b[39m\"\u001b[39m)\n\u001b[1;32m    440\u001b[0m \u001b[39mself\u001b[39m\u001b[39m.\u001b[39mis_connected \u001b[39m=\u001b[39m \u001b[39mTrue\u001b[39;00m\n",
      "\u001b[0;31mConnectionRefusedError\u001b[0m: [Errno 61] Connection refused"
     ]
    }
   ],
   "source": [
    "def agg_occurences_by_district(df: pysql.DataFrame):\n",
    "    _df = df.groupBy('districtName').agg(F.count('crimeType').alias('cases'))\n",
    "    total = df.count()\n",
    "\n",
    "    return (_df.withColumn('percent', F.round(100.0 * F.col('cases')/total, 2))\n",
    "               .orderBy(F.desc('percent'))\n",
    "             )\n",
    "\n",
    "check_df = agg_occurences_by_district(df_all)\n",
    "assert 100.0 == round(check_df.select(F.sum(\"percent\").alias('prc')).collect()[0]['prc'], 0)\n",
    "\n",
    "check_df.show(truncate=False)\n"
   ]
  },
  {
   "cell_type": "code",
   "execution_count": null,
   "metadata": {},
   "outputs": [
    {
     "name": "stderr",
     "output_type": "stream",
     "text": [
      "[Stage 1113:=============>(14 + 1) / 15][Stage 1114:==>           (2 + 12) / 14]\r"
     ]
    },
    {
     "name": "stdout",
     "output_type": "stream",
     "text": [
      "+---------------------------------------------------+------+-------+\n",
      "|lastOutcome                                        |cases |percent|\n",
      "+---------------------------------------------------+------+-------+\n",
      "|Under investigation                                |211258|51.11  |\n",
      "|Investigation complete; no suspect identified      |108506|26.25  |\n",
      "|Unable to prosecute suspect                        |63075 |15.26  |\n",
      "|Suspect charged                                    |9673  |2.34   |\n",
      "|null                                               |8852  |2.14   |\n",
      "|Local resolution                                   |4549  |1.1    |\n",
      "|Action to be taken by another organisation         |2726  |0.66   |\n",
      "|Further investigation is not in the public interest|1515  |0.37   |\n",
      "|Offender given a caution                           |1356  |0.33   |\n",
      "|Formal action is not in the public interest        |624   |0.15   |\n",
      "|Further action is not in the public interest       |635   |0.15   |\n",
      "|Offender given penalty notice                      |387   |0.09   |\n",
      "|Offender given a drugs possession warning          |118   |0.03   |\n",
      "|Suspect charged as part of another case            |44    |0.01   |\n",
      "+---------------------------------------------------+------+-------+\n",
      "\n"
     ]
    },
    {
     "name": "stderr",
     "output_type": "stream",
     "text": [
      "                                                                                \r"
     ]
    }
   ],
   "source": [
    "def agg_outcomes_count(df: pysql.DataFrame):\n",
    "    total = df.count()\n",
    "    return (df.groupBy('lastOutcome').agg(F.count('lastOutcome').alias('cases'))\n",
    "             .withColumn('percent', F.round(100.0 * F.col('cases')/total, 2))\n",
    "             .orderBy(F.desc('percent'))\n",
    "             )\n",
    "\n",
    "check_df = agg_outcomes_count(df_all)\n",
    "assert 100.0 == round(check_df.select(F.sum(\"percent\").alias('prc')).collect()[0]['prc'], 0)\n",
    "\n",
    "check_df.show(truncate=False)"
   ]
  },
  {
   "cell_type": "code",
   "execution_count": null,
   "metadata": {},
   "outputs": [
    {
     "name": "stderr",
     "output_type": "stream",
     "text": [
      "[Stage 1127:==========>   (11 + 4) / 15][Stage 1128:>             (0 + 12) / 14]\r"
     ]
    },
    {
     "name": "stdout",
     "output_type": "stream",
     "text": [
      "+--------------------+--------------------+---------+---------+--------------------+--------------------+\n",
      "|             crimeId|        districtName| latitude|longitude|           crimeType|         lastOutcome|\n",
      "+--------------------+--------------------+---------+---------+--------------------+--------------------+\n",
      "|0000660af187ccfe0...|Suffolk Constabulary|52.458968| 1.698238|Violence and sexu...|Offender given a ...|\n",
      "|000149eacb36e3c22...|South Yorkshire P...|53.413767|-1.459857|Violence and sexu...|     Suspect charged|\n",
      "|0002d7d5a5a237ce5...|Leicestershire Po...|52.638846|-1.055671|Violence and sexu...|Unable to prosecu...|\n",
      "|000564cee44fde54a...|Lancashire Consta...|53.747572|-2.379645|       Vehicle crime|Investigation com...|\n",
      "|000756f1015445e64...|Gloucestershire C...|51.909686|-2.109721|        Public order| Under investigation|\n",
      "|0009b00e7245ee4ff...|Metropolitan Poli...|51.531715|-0.121637|         Other theft| Under investigation|\n",
      "|000b3522a56720e5c...|Metropolitan Poli...|51.510635|-0.145807|       Vehicle crime|Investigation com...|\n",
      "|000fc54e3bb91ca40...|Metropolitan Poli...|51.334695|-0.128912|       Vehicle crime| Under investigation|\n",
      "|0011467ec4b2e924b...|         Kent Police|51.345786| 0.701866|Violence and sexu...|Action to be take...|\n",
      "|0015110443aac7eb7...|Metropolitan Poli...|51.503167|-0.108388|         Other theft| Under investigation|\n",
      "+--------------------+--------------------+---------+---------+--------------------+--------------------+\n",
      "only showing top 10 rows\n",
      "\n"
     ]
    },
    {
     "name": "stderr",
     "output_type": "stream",
     "text": [
      "                                                                                \r"
     ]
    }
   ],
   "source": [
    "df_all.show(10)"
   ]
  }
 ],
 "metadata": {
  "kernelspec": {
   "display_name": "base",
   "language": "python",
   "name": "python3"
  },
  "language_info": {
   "codemirror_mode": {
    "name": "ipython",
    "version": 3
   },
   "file_extension": ".py",
   "mimetype": "text/x-python",
   "name": "python",
   "nbconvert_exporter": "python",
   "pygments_lexer": "ipython3",
   "version": "3.9.12"
  },
  "orig_nbformat": 4,
  "vscode": {
   "interpreter": {
    "hash": "c3173239fadb8b32d30d8e8c7d5453b2db8900bb8539de9631dc2c18c1f6f3c0"
   }
  }
 },
 "nbformat": 4,
 "nbformat_minor": 2
}
